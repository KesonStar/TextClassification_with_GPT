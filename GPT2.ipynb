{
 "cells": [
  {
   "cell_type": "code",
   "execution_count": 2,
   "metadata": {},
   "outputs": [],
   "source": [
    "import torch\n",
    "import torch.nn as nn\n",
    "import torch.nn.functional as F\n",
    "from tqdm import trange\n",
    "from dataclasses import dataclass\n",
    "import pandas as pd\n",
    "from sklearn.model_selection import train_test_split\n",
    "from torch.utils.data import random_split\n",
    "from torch.utils.data import Dataset\n",
    "from torch.utils.data import DataLoader\n",
    "from transformers import BertTokenizer  \n",
    "from torch.optim import AdamW\n",
    "\n",
    "\n",
    "\n",
    "import warnings\n",
    "\n",
    "warnings.filterwarnings(\"ignore\")\n",
    "device = \"cuda\" if torch.cuda.is_available() else \"cpu\""
   ]
  },
  {
   "cell_type": "markdown",
   "metadata": {},
   "source": [
    "# 0. Preparation\n",
    "## 0.1 GPT Blocks"
   ]
  },
  {
   "cell_type": "code",
   "execution_count": 2,
   "metadata": {},
   "outputs": [],
   "source": [
    "class CausalSelfAttention(nn.Module):\n",
    "    def __init__(self, config):\n",
    "        super().__init__()\n",
    "        # 'embd_size' sized vector divided into 'num_heads' heads\n",
    "        assert config.embd_size % config.num_heads == 0, f\"embedding dim should be divisible by number of heads\"\n",
    "        self.num_heads = config.num_heads\n",
    "        self.embd_size = config.embd_size\n",
    "        # batched key, query, and value projections for all heads\n",
    "        self.c_attn = nn.Linear(config.embd_size, 3 * config.embd_size)\n",
    "        self.c_proj = nn.Linear(config.embd_size, config.embd_size)\n",
    "        self.c_proj.SCALE_INIT = 1.0\n",
    "        # not really a bias, more of a mask, but following OpenAI/HF naming convention\n",
    "        # self.register_buffer(\"bias\", torch.tril(torch.ones(config.context_length, config.context_length)).view(1, 1, config.context_length, config.context_length))\n",
    "\n",
    "    def forward(self, x):\n",
    "        B, T, C = x.shape\n",
    "     \n",
    "        qkv = self.c_attn(x)    # (B, T, 3C)\n",
    "        q, k, v = qkv.split(self.embd_size, dim=-1)    # (B,T,C), (B,T,C), (B,T,C)\n",
    "        q = q.view(B, T, self.num_heads, self.embd_size // self.num_heads).transpose(1, 2)    # (B,nh,T,hs)\n",
    "        k = k.view(B, T, self.num_heads, self.embd_size // self.num_heads).transpose(1, 2)    # (B,nh,T,hs)\n",
    "        v = v.view(B, T, self.num_heads, self.embd_size // self.num_heads).transpose(1, 2)    # (B,nh,T,hs)\n",
    "    \n",
    "        out = F.scaled_dot_product_attention(q, k, v, is_causal=True)    # (B,nh,T,hs)\n",
    "        out = out.transpose(1, 2).contiguous().view(B, T, C)    # (B,nh,T,hs) --> (B,T,nh,hs) --> (B,T,C=nh*hs)\n",
    "        out = self.c_proj(out)    # (B,T,C) --> (B,T,C)\n",
    "        return out\n",
    "\n",
    "\n",
    "class MLP(nn.Module):\n",
    "    def __init__(self, config):\n",
    "        super().__init__()\n",
    "        self.c_fc = nn.Linear(config.embd_size, 4 * config.embd_size)\n",
    "        self.gelu = nn.GELU(approximate='tanh')    # approximate='tanh' used to try to reproduce gpt2 paper\n",
    "        self.c_proj = nn.Linear(4 * config.embd_size, config.embd_size)\n",
    "        self.c_proj.SCALE_INIT = 1.0\n",
    "\n",
    "    def forward(self, x):\n",
    "        x = self.c_fc(x)\n",
    "        x = self.gelu(x)\n",
    "        x = self.c_proj(x)\n",
    "        return x\n",
    "\n",
    "\n",
    "class Block(nn.Module):\n",
    "    \"\"\" Transformer Encoder block \"\"\"\n",
    "\n",
    "    def __init__(self, config):\n",
    "        super().__init__()\n",
    "        self.ln_1 = nn.LayerNorm(config.embd_size)\n",
    "        self.attn = CausalSelfAttention(config)\n",
    "        self.ln_2 = nn.LayerNorm(config.embd_size)\n",
    "        self.mlp = MLP(config)\n",
    "    \n",
    "    def forward(self, x):\n",
    "        x = x + self.attn(self.ln_1(x))\n",
    "        x = x + self.mlp(self.ln_2(x))\n",
    "        return x\n",
    "    "
   ]
  },
  {
   "cell_type": "code",
   "execution_count": null,
   "metadata": {},
   "outputs": [],
   "source": [
    "class GPTLM(nn.Module):\n",
    "    def __init__(self, config):\n",
    "        super().__init__()\n",
    "        self.config = config\n",
    "        self.transformer = nn.ModuleDict(dict(\n",
    "            wte = nn.Embedding(self.config.vocab_size, self.config.embd_size),\n",
    "            wpe = nn.Embedding(self.config.context_length, self.config.embd_size),\n",
    "            h = nn.ModuleList([Block(self.config) for _ in range(self.config.num_layers)]),\n",
    "            ln_f = nn.LayerNorm(self.config.embd_size)\n",
    "        ))\n",
    "        # language modeling head\n",
    "        self.lm_head = nn.Linear(self.config.embd_size, self.config.vocab_size, bias=False)\n",
    "        # weight sharing scheme (reduces 768*50267=~40M params, fewer params, more efficient)\n",
    "        self.transformer.wte.weight = self.lm_head.weight\n",
    "        # init params (iterates over all submodules and applies _init_weights)\n",
    "        self.apply(self._init_weights)\n",
    "\n",
    "    def _init_weights(self, module):\n",
    "        if isinstance(module, nn.Linear):\n",
    "            std = 0.02\n",
    "            if hasattr(module, 'SCALE_INIT'):\n",
    "                std /= (2 * self.config.num_layers)**0.5\n",
    "            torch.nn.init.normal_(module.weight, mean=0, std=std)    # as per openai gpt-2 source code\n",
    "            if module.bias is not None:\n",
    "                torch.nn.init.zeros_(module.bias)\n",
    "        elif isinstance(module, nn.Embedding):\n",
    "            torch.nn.init.normal_(module.weight, mean=0, std=0.02)\n",
    "\n",
    "    def forward(self, idx, targets=None):\n",
    "        B, T = idx.shape\n",
    "        assert T <= self.config.context_length, f'sequence length {T} should be <= {self.config.context_length}'\n",
    "        pos = torch.arange(0, T, dtype=torch.long, device=idx.device)    # (T,)\n",
    "        pos_embd = self.transformer.wpe(pos)    # (T, embd_size)\n",
    "        tok_embd = self.transformer.wte(idx)    # (B, T, embd_size)\n",
    "        x = pos_embd + tok_embd    # (B, T, embd_size)\n",
    "        for block in self.transformer.h:\n",
    "            x = block(x)\n",
    "        x = self.transformer.ln_f(x)    # (B, T, embd_size)\n",
    "        logits = self.lm_head(x)    # (B, T, vocab_size)\n",
    "        loss = None\n",
    "        if targets is not None:\n",
    "            loss = F.cross_entropy(logits.view(-1, logits.shape[-1]), targets.view(-1), ignore_index=-100)\n",
    "        return logits, loss\n",
    "\n",
    "    def generate(self, input_ids, max_length=65): ## only to generate the <好评> or <差评>\n",
    "        gen_tokens = input_ids\n",
    "        while gen_tokens.shape[-1] < max_length:\n",
    "            with torch.inference_mode():\n",
    "                logits, loss = self(gen_tokens.to(device))\n",
    "                logits = logits[:, -1, :]\n",
    "                probs = F.softmax(logits, dim=-1)\n",
    "                next_tok = torch.argmax(probs, dim=-1, keepdim=True)\n",
    "                gen_tokens = torch.cat([gen_tokens, next_tok], dim=-1)\n",
    "        return gen_tokens\n",
    "    \n",
    "    @classmethod\n",
    "    def from_pretrained(cls, model_type):\n",
    "        \"\"\" Loads pretrained GPT2 model weights from huggingface \"\"\"\n",
    "        assert model_type in {'gpt2', 'gpt2-medium', 'gpt2-large', 'gpt2-xl', 'uer/gpt2-distil-chinese-cluecorpussmall'}\n",
    "        from transformers import GPT2LMHeadModel\n",
    "        print(f\"loading weights from pretrained gpt: {model_type}\")\n",
    "\n",
    "        config_args = {\n",
    "            'uer/gpt2-distil-chinese-cluecorpussmall': dict(num_layers=6, num_heads=12, embd_size=768),    # 82M params\n",
    "            'gpt2': dict(num_layers=12, num_heads=12, embd_size=768),    # 124M params\n",
    "            'gpt2-medium': dict(num_layers=24, num_heads=16, embd_size=1024),    # 350M params\n",
    "            'gpt2-large': dict(num_layers=36, num_heads=20, embd_size=1280),    # 774M params\n",
    "            'gpt2-xl': dict(num_layers=48, num_heads=25, embd_size=1600),    # 1558M params\n",
    "        }[model_type]\n",
    "        config_args['vocab_size'] = 21128\n",
    "        config_args['context_length'] = 1024\n",
    "\n",
    "        # create a from-scratch minGPT model\n",
    "        config = GPTConfig(**config_args)\n",
    "        model = GPTLM(config)\n",
    "        sd = model.state_dict()\n",
    "        sd_keys = sd.keys()\n",
    "        sd_keys = [k for k in sd_keys if not k.endswith('.attn.bias')]\n",
    "\n",
    "        # init a huggingface transformers model\n",
    "        model_hf = GPT2LMHeadModel.from_pretrained(model_type)\n",
    "        sd_hf = model_hf.state_dict()\n",
    "        sd_keys_hf = sd_hf.keys()\n",
    "        sd_keys_hf = [k for k in sd_keys_hf if not k.endswith('.attn.masked_bias')]\n",
    "        sd_keys_hf = [k for k in sd_keys_hf if not k.endswith('.attn.bias')]\n",
    "        transposed = ['attn.c_attn.weight', 'attn.c_proj.weight', 'mlp.c_fc.weight', 'mlp.c_proj.weight']\n",
    "\n",
    "        assert len(sd_keys) == len(sd_keys_hf), f\"mismatched keys {len(sd_keys)} != {len(sd_keys_hf)}\"\n",
    "\n",
    "        # copy while ensuring all parameters are aligned in names and shape\n",
    "        for k in sd_keys_hf:\n",
    "            if any(k.endswith(w) for w in transposed):\n",
    "                # need to transpose Conv1D weights\n",
    "                assert sd_hf[k].shape[::-1]  == sd[k].shape\n",
    "                with torch.no_grad():\n",
    "                    sd[k].copy_(sd_hf[k].T)\n",
    "            else:\n",
    "                # print(k, sd_hf[k].shape, sd[k].shape)\n",
    "                assert sd_hf[k].shape == sd[k].shape\n",
    "                with torch.no_grad():\n",
    "                    sd[k].copy_(sd_hf[k])\n",
    "        return model\n",
    "    "
   ]
  },
  {
   "cell_type": "markdown",
   "metadata": {},
   "source": [
    "## 0.2 Tokenizer, Dataset and Dataloader\n",
    "1. We use **BertTokenizer** found on *huggingface* in order to tokenize Chinese text.\n",
    "2. In order to better classify the sentiment, we add four special tokens to the beginning of each text:`<好评>`, `<差评>`, `<review>`, `<sentiment>`.\n",
    "3. We may find out that in the dataset, bias is quite common, where the positive samples are much more than the negative samples(4305-695). In order to balance the dataset, we simply **over-sample** the negative samples."
   ]
  },
  {
   "cell_type": "code",
   "execution_count": 3,
   "metadata": {},
   "outputs": [
    {
     "data": {
      "text/plain": [
       "21132"
      ]
     },
     "execution_count": 3,
     "metadata": {},
     "output_type": "execute_result"
    }
   ],
   "source": [
    "tokenizer = BertTokenizer.from_pretrained(\"uer/gpt2-distil-chinese-cluecorpussmall\")\n",
    "\n",
    "## Important!!!!! Add special tokens in order to train the model\n",
    "\n",
    "special_tokens_dict = {\"additional_special_tokens\": [\"<好评>\", \"<差评>\", \"<review>\", \"<sentiment>\"]}\n",
    "tokenizer.add_special_tokens(special_tokens_dict)\n",
    "len(tokenizer)"
   ]
  },
  {
   "cell_type": "code",
   "execution_count": 5,
   "metadata": {},
   "outputs": [],
   "source": [
    "df = pd.read_csv(\"./reviews.csv\")\n",
    "\n",
    "\n",
    "df_positive = df[df['sentiment'] == 1]\n",
    "df_negative = df[df['sentiment'] == 0]\n",
    "n_positive = len(df_positive)\n",
    "\n",
    "df_negative_over = df_negative.sample(n=n_positive, replace=True, random_state=42)\n",
    "df = pd.concat([df_positive, df_negative_over])\n",
    "\n",
    "\n",
    "train_df, val_df = train_test_split(df, test_size=0.1, random_state=42)"
   ]
  },
  {
   "cell_type": "code",
   "execution_count": 4,
   "metadata": {},
   "outputs": [],
   "source": [
    "def preprocess_sample(review_text, label, tokenizer, max_length=64):\n",
    "    label_str = \"<好评>\" if label == 1 else \"<差评>\"\n",
    "    prompt = f\"<review>\\n{review_text}\\n<sentiment>\\n\"\n",
    "    full_text = prompt + label_str\n",
    "    encoding = tokenizer(full_text,\n",
    "                         return_tensors=\"pt\",\n",
    "                         padding=\"max_length\",  \n",
    "                         max_length=max_length,\n",
    "                         truncation=True, add_special_tokens=False)\n",
    "    \n",
    "    input_ids = encoding.input_ids.squeeze(0)\n",
    "    labels = input_ids.clone()\n",
    "\n",
    "    \n",
    "    prompt_encoding = tokenizer(prompt, return_tensors=\"pt\", add_special_tokens=False)\n",
    "    prompt_length = prompt_encoding.input_ids.shape[1]\n",
    "    \n",
    "    \n",
    "    labels = labels[1:]\n",
    "    # add a 0 at the end of labels\n",
    "    labels = torch.cat([labels, torch.tensor([0])])\n",
    "    labels[:prompt_length-1] = -100 # set to -100 to ignore loss\n",
    "    if prompt_length < 64:\n",
    "        input_ids[prompt_length] = 0\n",
    "\n",
    "    \n",
    "    \n",
    "    return {\n",
    "        \"input_ids\": input_ids,\n",
    "        \"labels\": labels,\n",
    "        \"prompt_length\": prompt_length\n",
    "    }\n",
    "    \n",
    "class TrainDataset(Dataset):\n",
    "    def __init__(self, dataframe, tokenizer=None, max_length=64):\n",
    "        self.df = dataframe\n",
    "        self.max_length = max_length\n",
    "        if tokenizer is not None:\n",
    "            self.tokenizer = tokenizer\n",
    "        else:\n",
    "            self.tokenizer = BertTokenizer.from_pretrained(\"uer/gpt2-distil-chinese-cluecorpussmall\")\n",
    "            self.tokenizer.add_special_tokens({\"additional_special_tokens\": [\"<好评>\", \"<差评>\", \"<review>\", \"<sentiment>\"]})\n",
    "\n",
    "    def __len__(self):\n",
    "        return len(self.df)\n",
    "\n",
    "    def __getitem__(self, index):\n",
    "        review = self.df.iloc[index]['review']\n",
    "        sentiment = self.df.iloc[index]['sentiment']  # 1 or 0\n",
    "\n",
    "     \n",
    "        return preprocess_sample(review, sentiment, self.tokenizer, self.max_length)\n",
    "\n",
    "class ValidDataset(Dataset):\n",
    "    def __init__(self, dataframe, tokenizer=None, max_length=64):\n",
    "        self.df = dataframe\n",
    "        self.max_length = max_length\n",
    "        if tokenizer is not None:\n",
    "            self.tokenizer = tokenizer\n",
    "        else:\n",
    "            self.tokenizer = BertTokenizer.from_pretrained(\"uer/gpt2-distil-chinese-cluecorpussmall\")\n",
    "            self.tokenizer.add_special_tokens({\"additional_special_tokens\": [\"<好评>\", \"<差评>\", \"<review>\", \"<sentiment>\"]})\n",
    "\n",
    "    def __len__(self):\n",
    "        return len(self.df)\n",
    "\n",
    "    def __getitem__(self, index):\n",
    "        review_text = self.df.iloc[index]['review']\n",
    "        label = self.df.iloc[index]['sentiment']  # 1 or 0\n",
    "        label_str = \"<好评>\" if label == 1 else \"<差评>\"\n",
    "        prompt = f\"<review>\\n{review_text}\\n<sentiment>\\n\"\n",
    "        # full_text = prompt + label_str\n",
    "\n",
    "        encoding = tokenizer(prompt,\n",
    "                            return_tensors=\"pt\",\n",
    "                            padding=\"max_length\",  \n",
    "                            max_length=self.max_length,\n",
    "                            truncation=True, add_special_tokens=False)\n",
    "        \n",
    "        input_ids = encoding.input_ids.squeeze(0) \n",
    "        \n",
    "        attention_mask = encoding.attention_mask.squeeze(0)\n",
    "\n",
    "        # 计算 prompt 部分的 token 数量，设置为 -100 来屏蔽其 loss\n",
    "        labels = tokenizer(label_str, return_tensors=\"pt\", add_special_tokens=False).input_ids.squeeze(0)\n",
    "        return {\n",
    "            \"input_ids\": input_ids,\n",
    "            \"labels\": labels,\n",
    "            \"attention_mask\": attention_mask\n",
    "        }"
   ]
  },
  {
   "cell_type": "code",
   "execution_count": 75,
   "metadata": {},
   "outputs": [],
   "source": [
    "trainset = TrainDataset(train_df, tokenizer)\n",
    "validset = ValidDataset(val_df, tokenizer)\n",
    "trainloader = DataLoader(trainset, batch_size=64, shuffle=True)\n",
    "validloader = DataLoader(validset, batch_size=64, shuffle=True) "
   ]
  },
  {
   "cell_type": "markdown",
   "metadata": {},
   "source": [
    "# 1. GPT-2 with autoregressive \n",
    "## 1.1 Train a tiny toy GPT-2 model\n",
    "**Hyperparams are listed as follows**\n",
    "1. `num_layers`: 2\n",
    "2. `hidden_size`: 384"
   ]
  },
  {
   "cell_type": "code",
   "execution_count": 38,
   "metadata": {},
   "outputs": [],
   "source": [
    "@dataclass\n",
    "class GPTConfig:\n",
    "    context_length: int = 128   # max context / sequence length\n",
    "    vocab_size: int = 21132    # number of tokens for bert-tokenizer + special tokens\n",
    "    num_layers: int = 2\n",
    "    # embd_size: int = 768   # embedding dim\n",
    "    embd_size: int = 384\n",
    "    num_heads: int = 12\n",
    "    hidden_size: int = 384"
   ]
  },
  {
   "cell_type": "code",
   "execution_count": 39,
   "metadata": {},
   "outputs": [],
   "source": [
    "config = GPTConfig()\n",
    "model = GPTLM(config).to(device)"
   ]
  },
  {
   "cell_type": "code",
   "execution_count": 15,
   "metadata": {},
   "outputs": [],
   "source": [
    "def evaluate(model):\n",
    "    model.eval()\n",
    "    total_samples = 0\n",
    "    correct_preds = 0\n",
    "    TP = 0\n",
    "    TN = 0\n",
    "    FP = 0\n",
    "    FN = 0\n",
    "    \n",
    "    with torch.no_grad():\n",
    "        for batch in validloader:\n",
    "            input_ids = batch['input_ids'].to(device)\n",
    "            labels = batch['labels'].to(device)\n",
    "            attention_mask = batch['attention_mask'].to(device)\n",
    "            batch_size = input_ids.size(0)\n",
    "            actual_lengths = attention_mask.sum(dim=1) \n",
    "    \n",
    "            for i in range(batch_size):\n",
    "                \n",
    "                prompt_len = int(actual_lengths[i].item())\n",
    "                single_input_ids = input_ids[i][:prompt_len].unsqueeze(0)\n",
    "                single_mask = attention_mask[i][:prompt_len].unsqueeze(0)\n",
    "                generated_ids = model.generate(single_input_ids, max_length=single_input_ids.shape[1]+1)\n",
    "                answer_ids = generated_ids[0, prompt_len:prompt_len+1]\n",
    "\n",
    "                # print(f\"generated_ids: {generated_ids}\")\n",
    "                # print(f\"answer_ids: {answer_ids}\")\n",
    "                # print(f\"labels: {labels[i]}\")\n",
    "\n",
    "    \n",
    "                true_text = labels[i]\n",
    "                # print(f\"answer_ids: {answer_ids}, true_text: {true_text}\")\n",
    "     \n",
    "                total_samples += 1\n",
    "                \n",
    "                # 这里简单判断：如果预测结果中包含真实标签，就认为预测正确\n",
    "                if true_text == answer_ids:\n",
    "                    correct_preds += 1\n",
    "                if true_text == 21128 and answer_ids == 21128:\n",
    "                    TP += 1\n",
    "                elif true_text == 21129 and answer_ids == 21129:\n",
    "                    TN += 1\n",
    "                elif true_text == 21128 and answer_ids != 21128:\n",
    "                    FN += 1\n",
    "                elif true_text == 21129 and answer_ids != 21129:\n",
    "                    FP += 1\n",
    "                    \n",
    "\n",
    "    metrics = {}                          \n",
    "    accuracy = correct_preds / total_samples if total_samples > 0 else 0.0\n",
    "    precision = TP / (TP + FP) if (TP + FP) > 0 else 0.0\n",
    "    recall = TP / (TP + FN) if (TP + FN) > 0 else 0.0\n",
    "    \n",
    "    f1_score = 2 * (precision * recall) / (precision + recall) if (precision + recall) > 0 else 0.0\n",
    "    metrics['accuracy'] = accuracy\n",
    "    metrics['precision'] = precision\n",
    "    metrics['recall'] = recall\n",
    "    metrics['f1_score'] = f1_score\n",
    "\n",
    "    model.train()\n",
    "    return metrics\n",
    "                \n",
    "            \n",
    "def train(model, optimizer, num_epochs):\n",
    "    model.train()\n",
    "    for epoch in trange(num_epochs):\n",
    "\n",
    "        for step, batch in enumerate(trainloader):\n",
    "            input_ids = batch[\"input_ids\"].to(device)\n",
    "            labels = batch[\"labels\"].to(device)\n",
    "            \n",
    "            optimizer.zero_grad()\n",
    "            logits, loss = model(input_ids, labels)\n",
    "            \n",
    "            loss.backward()\n",
    "            optimizer.step()\n",
    "            \n",
    "            if step % 50 == 0:\n",
    "                print(f\"Epoch: {epoch} Step {step}: Loss = {loss.item():.6f}\")\n",
    "        \n",
    "        metrics = evaluate(model)\n",
    "        print(f\"Accuracy: {metrics['accuracy']:.4f}, Precision: {metrics['precision']:.4f}, Recall: {metrics['recall']:.4f}, F1 Score: {metrics['f1_score']:.4f}\")\n",
    "        \n",
    "        model.train()\n",
    "\n",
    "    print(\"Training complete!\")"
   ]
  },
  {
   "cell_type": "code",
   "execution_count": 46,
   "metadata": {},
   "outputs": [
    {
     "name": "stderr",
     "output_type": "stream",
     "text": [
      "  0%|          | 0/15 [00:00<?, ?it/s]"
     ]
    },
    {
     "name": "stdout",
     "output_type": "stream",
     "text": [
      "Epoch: 0 Step 0: Loss = 8.836351\n",
      "Epoch: 0 Step 50: Loss = 1.503196\n",
      "Epoch: 0 Step 100: Loss = 0.642614\n"
     ]
    },
    {
     "name": "stderr",
     "output_type": "stream",
     "text": [
      "  7%|▋         | 1/15 [00:05<01:11,  5.13s/it]"
     ]
    },
    {
     "name": "stdout",
     "output_type": "stream",
     "text": [
      "Validation Accuracy: 0.4657\n",
      "Epoch: 1 Step 0: Loss = 0.451556\n",
      "Epoch: 1 Step 50: Loss = 0.239723\n",
      "Epoch: 1 Step 100: Loss = 0.145998\n"
     ]
    },
    {
     "name": "stderr",
     "output_type": "stream",
     "text": [
      " 13%|█▎        | 2/15 [00:09<01:03,  4.87s/it]"
     ]
    },
    {
     "name": "stdout",
     "output_type": "stream",
     "text": [
      "Validation Accuracy: 0.6330\n",
      "Epoch: 2 Step 0: Loss = 0.123044\n",
      "Epoch: 2 Step 50: Loss = 0.086820\n",
      "Epoch: 2 Step 100: Loss = 0.069500\n"
     ]
    },
    {
     "name": "stderr",
     "output_type": "stream",
     "text": [
      " 20%|██        | 3/15 [00:14<00:58,  4.90s/it]"
     ]
    },
    {
     "name": "stdout",
     "output_type": "stream",
     "text": [
      "Validation Accuracy: 0.6899\n",
      "Epoch: 3 Step 0: Loss = 0.061467\n",
      "Epoch: 3 Step 50: Loss = 0.050893\n",
      "Epoch: 3 Step 100: Loss = 0.042483\n"
     ]
    },
    {
     "name": "stderr",
     "output_type": "stream",
     "text": [
      " 27%|██▋       | 4/15 [00:19<00:53,  4.90s/it]"
     ]
    },
    {
     "name": "stdout",
     "output_type": "stream",
     "text": [
      "Validation Accuracy: 0.7433\n",
      "Epoch: 4 Step 0: Loss = 0.038326\n",
      "Epoch: 4 Step 50: Loss = 0.032568\n",
      "Epoch: 4 Step 100: Loss = 0.026368\n"
     ]
    },
    {
     "name": "stderr",
     "output_type": "stream",
     "text": [
      " 33%|███▎      | 5/15 [00:24<00:49,  4.92s/it]"
     ]
    },
    {
     "name": "stdout",
     "output_type": "stream",
     "text": [
      "Validation Accuracy: 0.8269\n",
      "Epoch: 5 Step 0: Loss = 0.024451\n",
      "Epoch: 5 Step 50: Loss = 0.020424\n",
      "Epoch: 5 Step 100: Loss = 0.019085\n"
     ]
    },
    {
     "name": "stderr",
     "output_type": "stream",
     "text": [
      " 40%|████      | 6/15 [00:29<00:43,  4.87s/it]"
     ]
    },
    {
     "name": "stdout",
     "output_type": "stream",
     "text": [
      "Validation Accuracy: 0.8548\n",
      "Epoch: 6 Step 0: Loss = 0.017184\n",
      "Epoch: 6 Step 50: Loss = 0.016875\n",
      "Epoch: 6 Step 100: Loss = 0.011944\n"
     ]
    },
    {
     "name": "stderr",
     "output_type": "stream",
     "text": [
      " 47%|████▋     | 7/15 [00:34<00:38,  4.86s/it]"
     ]
    },
    {
     "name": "stdout",
     "output_type": "stream",
     "text": [
      "Validation Accuracy: 0.8664\n",
      "Epoch: 7 Step 0: Loss = 0.011101\n",
      "Epoch: 7 Step 50: Loss = 0.012749\n",
      "Epoch: 7 Step 100: Loss = 0.009531\n"
     ]
    },
    {
     "name": "stderr",
     "output_type": "stream",
     "text": [
      " 53%|█████▎    | 8/15 [00:39<00:34,  4.89s/it]"
     ]
    },
    {
     "name": "stdout",
     "output_type": "stream",
     "text": [
      "Validation Accuracy: 0.8908\n",
      "Epoch: 8 Step 0: Loss = 0.009539\n",
      "Epoch: 8 Step 50: Loss = 0.007852\n",
      "Epoch: 8 Step 100: Loss = 0.007340\n"
     ]
    },
    {
     "name": "stderr",
     "output_type": "stream",
     "text": [
      " 60%|██████    | 9/15 [00:44<00:29,  4.89s/it]"
     ]
    },
    {
     "name": "stdout",
     "output_type": "stream",
     "text": [
      "Validation Accuracy: 0.8908\n",
      "Epoch: 9 Step 0: Loss = 0.008330\n",
      "Epoch: 9 Step 50: Loss = 0.006260\n",
      "Epoch: 9 Step 100: Loss = 0.007418\n"
     ]
    },
    {
     "name": "stderr",
     "output_type": "stream",
     "text": [
      " 67%|██████▋   | 10/15 [00:49<00:24,  4.94s/it]"
     ]
    },
    {
     "name": "stdout",
     "output_type": "stream",
     "text": [
      "Validation Accuracy: 0.8955\n",
      "Epoch: 10 Step 0: Loss = 0.005496\n",
      "Epoch: 10 Step 50: Loss = 0.005173\n",
      "Epoch: 10 Step 100: Loss = 0.004884\n"
     ]
    },
    {
     "name": "stderr",
     "output_type": "stream",
     "text": [
      " 73%|███████▎  | 11/15 [00:54<00:19,  5.00s/it]"
     ]
    },
    {
     "name": "stdout",
     "output_type": "stream",
     "text": [
      "Validation Accuracy: 0.9059\n",
      "Epoch: 11 Step 0: Loss = 0.005203\n",
      "Epoch: 11 Step 50: Loss = 0.004815\n",
      "Epoch: 11 Step 100: Loss = 0.004165\n"
     ]
    },
    {
     "name": "stderr",
     "output_type": "stream",
     "text": [
      " 80%|████████  | 12/15 [00:59<00:15,  5.01s/it]"
     ]
    },
    {
     "name": "stdout",
     "output_type": "stream",
     "text": [
      "Validation Accuracy: 0.8978\n",
      "Epoch: 12 Step 0: Loss = 0.003840\n",
      "Epoch: 12 Step 50: Loss = 0.003637\n",
      "Epoch: 12 Step 100: Loss = 0.003367\n"
     ]
    },
    {
     "name": "stderr",
     "output_type": "stream",
     "text": [
      " 87%|████████▋ | 13/15 [01:04<00:10,  5.04s/it]"
     ]
    },
    {
     "name": "stdout",
     "output_type": "stream",
     "text": [
      "Validation Accuracy: 0.9024\n",
      "Epoch: 13 Step 0: Loss = 0.003296\n",
      "Epoch: 13 Step 50: Loss = 0.003331\n",
      "Epoch: 13 Step 100: Loss = 0.002956\n"
     ]
    },
    {
     "name": "stderr",
     "output_type": "stream",
     "text": [
      " 93%|█████████▎| 14/15 [01:09<00:05,  5.04s/it]"
     ]
    },
    {
     "name": "stdout",
     "output_type": "stream",
     "text": [
      "Validation Accuracy: 0.9013\n",
      "Epoch: 14 Step 0: Loss = 0.002926\n",
      "Epoch: 14 Step 50: Loss = 0.002646\n",
      "Epoch: 14 Step 100: Loss = 0.003585\n"
     ]
    },
    {
     "name": "stderr",
     "output_type": "stream",
     "text": [
      "100%|██████████| 15/15 [01:14<00:00,  4.97s/it]"
     ]
    },
    {
     "name": "stdout",
     "output_type": "stream",
     "text": [
      "Validation Accuracy: 0.9013\n",
      "Training complete!\n"
     ]
    },
    {
     "name": "stderr",
     "output_type": "stream",
     "text": [
      "\n"
     ]
    }
   ],
   "source": [
    "optimizer = torch.optim.AdamW(model.parameters(), lr=5e-5)\n",
    "train(model, optimizer, num_epochs=15)"
   ]
  },
  {
   "cell_type": "code",
   "execution_count": 47,
   "metadata": {},
   "outputs": [],
   "source": [
    "torch.save(model.state_dict(), \"toy-gpt2-9013.pt\")"
   ]
  },
  {
   "cell_type": "code",
   "execution_count": 42,
   "metadata": {},
   "outputs": [
    {
     "data": {
      "text/plain": [
       "{'accuracy': 0.9012775842044135,\n",
       " 'precision': 0.9101654846335697,\n",
       " 'recall': 0.8912037037037037,\n",
       " 'f1_score': 0.9005847953216374}"
      ]
     },
     "execution_count": 42,
     "metadata": {},
     "output_type": "execute_result"
    }
   ],
   "source": [
    "model.load_state_dict(torch.load(\"toy-gpt2-9013.pt\"))\n",
    "model.eval()\n",
    "evaluate(model)"
   ]
  },
  {
   "cell_type": "code",
   "execution_count": 28,
   "metadata": {},
   "outputs": [],
   "source": [
    "def predict_sentiment(review_text, model, tokenizer, device, gen_max_length=1):\n",
    "    prompt = f\"<review>\\n{review_text}\\n<sentiment>\\n\"\n",
    "    \n",
    "    encoding = tokenizer(prompt, return_tensors=\"pt\", padding=True, truncation=True, add_special_tokens=False)\n",
    "    input_ids = encoding.input_ids.to(device)\n",
    "    print(input_ids)\n",
    "\n",
    "    # print(attention_mask)\n",
    "    output_ids = model.generate(\n",
    "        input_ids,\n",
    "        max_length=input_ids.shape[1] + gen_max_length,\n",
    "    )\n",
    "\n",
    "    print(output_ids)\n",
    "    generated_tokens = output_ids[0][input_ids.shape[1]:]\n",
    "\n",
    "    generated_text = tokenizer.decode(generated_tokens)\n",
    "    \n",
    "    return generated_text.strip()"
   ]
  },
  {
   "cell_type": "code",
   "execution_count": 50,
   "metadata": {},
   "outputs": [
    {
     "name": "stdout",
     "output_type": "stream",
     "text": [
      "tensor([[21130,  4263,  6631,  6632,  4415,  3255,  3221,  1546,   671,  4638,\n",
      "          4696,  4415, 21131]], device='cuda:0')\n",
      "tensor([[21130,  4263,  6631,  6632,  4415,  3255,  3221,  1546,   671,  4638,\n",
      "          4696,  4415, 21131, 21128]], device='cuda:0')\n",
      "Prediction: <好评>\n"
     ]
    }
   ],
   "source": [
    "comment = \"爱超越理智是唯一的真理\"\n",
    "model.eval()\n",
    "result = predict_sentiment(comment, model, tokenizer, device)\n",
    "print(\"Prediction:\", result)"
   ]
  },
  {
   "cell_type": "markdown",
   "metadata": {},
   "source": [
    "## 1.2 Post-train a original GPT-2 117M(GPT small) with pretrained weights.\n",
    "> In this part, we first load the pretrained weights from huggingface and extract the weights of the model. Then we load the weights into our own model and try to post-train it."
   ]
  },
  {
   "cell_type": "code",
   "execution_count": 17,
   "metadata": {},
   "outputs": [],
   "source": [
    "@dataclass\n",
    "class GPTConfig:\n",
    "    context_length: int = 1024   # max context / sequence length\n",
    "    vocab_size: int = 21132    # number of tokens for bert-tokenizer + special tokens\n",
    "    num_layers: int = 6\n",
    "    embd_size: int = 768\n",
    "    num_heads: int = 12\n",
    "    hidden_size: int = 768\n",
    "\n",
    "\n",
    "\n"
   ]
  },
  {
   "cell_type": "code",
   "execution_count": 75,
   "metadata": {},
   "outputs": [],
   "source": [
    "from transformers import GPT2LMHeadModel\n",
    "model = GPT2LMHeadModel.from_pretrained(\"uer/gpt2-distil-chinese-cluecorpussmall\")\n",
    "model.resize_token_embeddings(len(tokenizer))\n",
    "device = \"cuda\" if torch.cuda.is_available() else \"cpu\"\n",
    "model.to(device)\n",
    "torch.save(model.state_dict(), \"pre-trained.pt\")"
   ]
  },
  {
   "cell_type": "code",
   "execution_count": null,
   "metadata": {},
   "outputs": [
    {
     "name": "stdout",
     "output_type": "stream",
     "text": [
      "Loading pretrained GPT-2 weights from pre-trained.pt...\n",
      "Checkpoint keys loaded: 77\n",
      "Filtered checkpoint keys: 77, Model keys: 77\n",
      "Weights successfully loaded!\n",
      "Model is ready for inference.\n"
     ]
    }
   ],
   "source": [
    "config = GPTConfig()\n",
    "model = GPTLM(config)\n",
    "\n",
    "\n",
    "def load_pretrained_gpt2(model_path: str):\n",
    "    \"\"\"\n",
    "    从本地的 Hugging Face GPT-2 预训练权重加载到自定义的 GPTLM 模型中。\n",
    "    :param model_path: 本地的 GPT-2 预训练模型文件路径（.pt 文件）\n",
    "    :return: 加载完毕的 GPTLM 模型\n",
    "    \"\"\"\n",
    "\n",
    "  \n",
    "    print(f\"Loading pretrained GPT-2 weights from {model_path}...\")\n",
    "    checkpoint = torch.load(model_path, map_location=torch.device(\"cpu\"))\n",
    "\n",
    "  \n",
    "    if \"state_dict\" in checkpoint:\n",
    "        checkpoint = checkpoint[\"state_dict\"]  \n",
    "\n",
    "    print(f\"Checkpoint keys loaded: {len(checkpoint.keys())}\")\n",
    "\n",
    "\n",
    "    config_args = dict(\n",
    "        num_layers=6,    \n",
    "        num_heads=12,     \n",
    "        embd_size=768,    \n",
    "        vocab_size=21132, \n",
    "        context_length=1024  \n",
    "    )\n",
    "    \n",
    "    config = GPTConfig(**config_args)\n",
    "    model = GPTLM(config)\n",
    "\n",
    "\n",
    "    model_sd = model.state_dict()\n",
    "    \n",
    "    \n",
    "    checkpoint = {k: v for k, v in checkpoint.items() if not k.endswith('.attn.bias') and not k.endswith('.attn.masked_bias')}\n",
    "    \n",
    "\n",
    "    print(f\"Filtered checkpoint keys: {len(checkpoint.keys())}, Model keys: {len(model_sd.keys())}\")\n",
    "\n",
    "    transposed_layers = ['attn.c_attn.weight', 'attn.c_proj.weight', 'mlp.c_fc.weight', 'mlp.c_proj.weight']\n",
    "    \n",
    "    for k in checkpoint:\n",
    "        if k in model_sd:\n",
    "            if any(k.endswith(w) for w in transposed_layers):\n",
    "   \n",
    "                checkpoint[k] = checkpoint[k].T\n",
    "\n",
    "\n",
    "    model.load_state_dict(checkpoint, strict=False) \n",
    "    print(\"Weights successfully loaded!\")\n",
    "\n",
    "\n",
    "    model.eval()\n",
    "    print(\"Model is ready for inference.\")\n",
    "    \n",
    "    return model\n",
    "\n",
    "gpt_model = load_pretrained_gpt2(\"pre-trained.pt\").to(device)\n"
   ]
  },
  {
   "cell_type": "code",
   "execution_count": 36,
   "metadata": {},
   "outputs": [],
   "source": [
    "trainset = TrainDataset(train_df, tokenizer)\n",
    "validset = ValidDataset(val_df, tokenizer, max_length=128)\n",
    "trainloader = DataLoader(trainset, batch_size=64, shuffle=True)\n",
    "validloader = DataLoader(validset, batch_size=64, shuffle=True)"
   ]
  },
  {
   "cell_type": "code",
   "execution_count": 78,
   "metadata": {},
   "outputs": [
    {
     "name": "stderr",
     "output_type": "stream",
     "text": [
      "  0%|          | 0/5 [00:00<?, ?it/s]"
     ]
    },
    {
     "name": "stdout",
     "output_type": "stream",
     "text": [
      "Epoch: 0 Step 0: Loss = 9.970535\n",
      "Epoch: 0 Step 50: Loss = 0.015316\n",
      "Epoch: 0 Step 100: Loss = 0.018852\n"
     ]
    },
    {
     "name": "stderr",
     "output_type": "stream",
     "text": [
      " 20%|██        | 1/5 [00:17<01:10, 17.52s/it]"
     ]
    },
    {
     "name": "stdout",
     "output_type": "stream",
     "text": [
      "Validation Accuracy: 0.7828\n",
      "Epoch: 1 Step 0: Loss = 0.012945\n",
      "Epoch: 1 Step 50: Loss = 0.007405\n",
      "Epoch: 1 Step 100: Loss = 0.009285\n"
     ]
    },
    {
     "name": "stderr",
     "output_type": "stream",
     "text": [
      " 40%|████      | 2/5 [00:33<00:49, 16.50s/it]"
     ]
    },
    {
     "name": "stdout",
     "output_type": "stream",
     "text": [
      "Validation Accuracy: 0.8862\n",
      "Epoch: 2 Step 0: Loss = 0.006904\n",
      "Epoch: 2 Step 50: Loss = 0.005140\n",
      "Epoch: 2 Step 100: Loss = 0.001718\n"
     ]
    },
    {
     "name": "stderr",
     "output_type": "stream",
     "text": [
      " 60%|██████    | 3/5 [00:49<00:32, 16.22s/it]"
     ]
    },
    {
     "name": "stdout",
     "output_type": "stream",
     "text": [
      "Validation Accuracy: 0.9245\n",
      "Epoch: 3 Step 0: Loss = 0.002354\n",
      "Epoch: 3 Step 50: Loss = 0.002606\n",
      "Epoch: 3 Step 100: Loss = 0.001019\n"
     ]
    },
    {
     "name": "stderr",
     "output_type": "stream",
     "text": [
      " 80%|████████  | 4/5 [01:05<00:16, 16.17s/it]"
     ]
    },
    {
     "name": "stdout",
     "output_type": "stream",
     "text": [
      "Validation Accuracy: 0.9477\n",
      "Epoch: 4 Step 0: Loss = 0.000926\n",
      "Epoch: 4 Step 50: Loss = 0.000464\n",
      "Epoch: 4 Step 100: Loss = 0.000355\n"
     ]
    },
    {
     "name": "stderr",
     "output_type": "stream",
     "text": [
      "100%|██████████| 5/5 [01:21<00:00, 16.30s/it]"
     ]
    },
    {
     "name": "stdout",
     "output_type": "stream",
     "text": [
      "Validation Accuracy: 0.9408\n",
      "Training complete!\n"
     ]
    },
    {
     "name": "stderr",
     "output_type": "stream",
     "text": [
      "\n"
     ]
    }
   ],
   "source": [
    "optimizer = torch.optim.AdamW(gpt_model.parameters(), lr=5e-5)\n",
    "train(gpt_model, optimizer, num_epochs=5)"
   ]
  },
  {
   "cell_type": "code",
   "execution_count": 83,
   "metadata": {},
   "outputs": [],
   "source": [
    "torch.save(gpt_model.state_dict(), \"gpt2-small.pt\")"
   ]
  },
  {
   "cell_type": "code",
   "execution_count": 31,
   "metadata": {},
   "outputs": [
    {
     "name": "stdout",
     "output_type": "stream",
     "text": [
      "tensor([[21130,   809,   711,  1762,  2192,  2823,  8024,  1071,  2141,  1762,\n",
      "          6845,  6912,  8024,   924,  2898,  6655,  4895,  8024,  8024,   511,\n",
      "         21131]], device='cuda:0')\n",
      "tensor([[21130,   809,   711,  1762,  2192,  2823,  8024,  1071,  2141,  1762,\n",
      "          6845,  6912,  8024,   924,  2898,  6655,  4895,  8024,  8024,   511,\n",
      "         21131, 21128]], device='cuda:0')\n",
      "预测结果: <好评>\n"
     ]
    }
   ],
   "source": [
    "comment = \"以为在寻找，其实在逃避，保持距离，，。\"\n",
    "gpt_model.eval()\n",
    "result = predict_sentiment(comment, gpt_model, tokenizer, device)\n",
    "print(\"预测结果:\", result)"
   ]
  },
  {
   "cell_type": "code",
   "execution_count": 30,
   "metadata": {},
   "outputs": [
    {
     "data": {
      "text/plain": [
       "<All keys matched successfully>"
      ]
     },
     "execution_count": 30,
     "metadata": {},
     "output_type": "execute_result"
    }
   ],
   "source": [
    "gpt_model.load_state_dict(torch.load(\"gpt2-small.pt\"))"
   ]
  },
  {
   "cell_type": "code",
   "execution_count": 37,
   "metadata": {},
   "outputs": [
    {
     "data": {
      "text/plain": [
       "{'accuracy': 0.9407665505226481,\n",
       " 'precision': 0.954653937947494,\n",
       " 'recall': 0.9259259259259259,\n",
       " 'f1_score': 0.9400705052878966}"
      ]
     },
     "execution_count": 37,
     "metadata": {},
     "output_type": "execute_result"
    }
   ],
   "source": [
    "evaluate(gpt_model)"
   ]
  },
  {
   "cell_type": "markdown",
   "metadata": {},
   "source": [
    "# 2. GPT-2 with classification head\n",
    "> This part is a another try which is mentioned in GPT-1 paper. In this part, the GPT model works as a feature extractor to extract the features of the text, and then we add a classification head to classify the sentiment.\n",
    "\n",
    "Note that in this part, we do not add the special tokens to tokenizers. Instead, we use the **last hidden state of the model** to work as a **encoder**.\n",
    "\n",
    "1. We can see that with the help of the **classification head**, the model can achieve a better performance than the autoregressive model.\n",
    "2. Only train the classification with the pretrained weights, the model performs poor(only a little better than random guess). This is maybe because of the **feature extractor** is not good enough."
   ]
  },
  {
   "cell_type": "code",
   "execution_count": 43,
   "metadata": {},
   "outputs": [
    {
     "data": {
      "text/plain": [
       "(7749, 861)"
      ]
     },
     "execution_count": 43,
     "metadata": {},
     "output_type": "execute_result"
    }
   ],
   "source": [
    "class GPTDataset(Dataset):\n",
    "\n",
    "    def __init__(self) -> None:\n",
    "        super().__init__()\n",
    "        self.data = df\n",
    "        self.data = self.data.dropna()\n",
    "\n",
    "    def __getitem__(self, index):\n",
    "        return self.data.iloc[index][\"review\"], self.data.iloc[index][\"sentiment\"]\n",
    "    \n",
    "    def __len__(self):\n",
    "        return len(self.data)\n",
    "    \n",
    "dataset = GPTDataset()\n",
    "trainset, validset = random_split(dataset, lengths=[0.9, 0.1])\n",
    "len(trainset), len(validset)\n"
   ]
  },
  {
   "cell_type": "code",
   "execution_count": 44,
   "metadata": {},
   "outputs": [],
   "source": [
    "def collate_func(batch):\n",
    "    texts, sentiments = [], []\n",
    "    for text, sentiment in batch:\n",
    "        texts.append(text)\n",
    "        sentiments.append(sentiment)\n",
    "        \n",
    "    inputs = tokenizer(texts, max_length = 64, padding=\"max_length\", truncation=True, return_tensors=\"pt\")\n",
    "    inputs['sentiments'] = torch.tensor(sentiments)\n",
    "    # inputs.pop(\"token_type_ids\")\n",
    "    # inputs.pop(\"attention_mask\")\n",
    "    return inputs\n",
    "\n",
    "trainloader = DataLoader(trainset, batch_size=32, shuffle=True, collate_fn=collate_func)\n",
    "validloader = DataLoader(validset, batch_size=64, shuffle=False, collate_fn=collate_func)"
   ]
  },
  {
   "cell_type": "code",
   "execution_count": null,
   "metadata": {},
   "outputs": [],
   "source": [
    "@dataclass\n",
    "class GPTConfig:\n",
    "    context_length: int = 1024    # max context / sequence length\n",
    "    vocab_size: int = 21128    # number of tokens for bert-tokenizer\n",
    "    num_layers: int = 12\n",
    "    embd_size: int = 768    # embedding dim\n",
    "    num_heads: int = 12\n",
    "    hidden_size: int = 768\n",
    "\n",
    "class GPT(nn.Module):\n",
    "    def __init__(self, config):\n",
    "        super().__init__()\n",
    "        self.config = config\n",
    "        self.transformer = nn.ModuleDict(dict(\n",
    "            wte = nn.Embedding(self.config.vocab_size, self.config.embd_size),\n",
    "            wpe = nn.Embedding(self.config.context_length, self.config.embd_size),\n",
    "            h = nn.ModuleList([Block(self.config) for _ in range(self.config.num_layers)]),\n",
    "            ln_f = nn.LayerNorm(self.config.embd_size)\n",
    "        ))\n",
    "        self.transformer.wte.weight =  nn.Linear(self.config.embd_size, self.config.vocab_size, bias=False).weight\n",
    "        \n",
    "        # init params (iterates over all submodules and applies _init_weights)\n",
    "        self.apply(self._init_weights)\n",
    "\n",
    "    def _init_weights(self, module):\n",
    "        if isinstance(module, nn.Linear):\n",
    "            std = 0.02\n",
    "            if hasattr(module, 'SCALE_INIT'):\n",
    "                std /= (2 * self.config.num_layers)**0.5\n",
    "            torch.nn.init.normal_(module.weight, mean=0, std=std)    # as per openai gpt-2 source code\n",
    "            if module.bias is not None:\n",
    "                torch.nn.init.zeros_(module.bias)\n",
    "        elif isinstance(module, nn.Embedding):\n",
    "            torch.nn.init.normal_(module.weight, mean=0, std=0.02)\n",
    "\n",
    "    def forward(self, idx, targets=None):\n",
    "        B, T = idx.shape\n",
    "        assert T <= self.config.context_length, f'sequence length {T} should be <= {self.config.context_length}'\n",
    "        pos = torch.arange(0, T, dtype=torch.long, device=idx.device)    # (T,)\n",
    "        pos_embd = self.transformer.wpe(pos)    # (T, embd_size)\n",
    "        tok_embd = self.transformer.wte(idx)    # (B, T, embd_size)\n",
    "        x = pos_embd + tok_embd    # (B, T, embd_size)\n",
    "        for block in self.transformer.h:\n",
    "            x = block(x)\n",
    "        x = self.transformer.ln_f(x)    # (B, T, embd_size)\n",
    "        # logits = self.lm_head(x)    # (B, T, vocab_size)\n",
    "        \n",
    "        # loss = None\n",
    "        # if targets is not None:\n",
    "        #     loss = F.cross_entropy(logits.view(-1, logits.shape[-1]), targets.view(-1))\n",
    "        # return logits, loss\n",
    "        return x\n",
    "\n",
    "    @classmethod\n",
    "    def from_pretrained(cls, model_type):\n",
    "        \"\"\" Loads pretrained GPT2 model weights from huggingface \"\"\"\n",
    "        assert model_type in {'gpt2', 'gpt2-medium', 'gpt2-large', 'gpt2-xl', 'uer/gpt2-distil-chinese-cluecorpussmall'}\n",
    "        from transformers import GPT2Model, GPT2LMHeadModel\n",
    "        print(f\"loading weights from pretrained gpt: {model_type}\")\n",
    "\n",
    "        config_args = {\n",
    "            'uer/gpt2-distil-chinese-cluecorpussmall': dict(num_layers=6, num_heads=12, embd_size=768),    # 82M params\n",
    "            'gpt2': dict(num_layers=12, num_heads=12, embd_size=768),    # 124M params\n",
    "            'gpt2-medium': dict(num_layers=24, num_heads=16, embd_size=1024),    # 350M params\n",
    "            'gpt2-large': dict(num_layers=36, num_heads=20, embd_size=1280),    # 774M params\n",
    "            'gpt2-xl': dict(num_layers=48, num_heads=25, embd_size=1600),    # 1558M params\n",
    "        }[model_type]\n",
    "        # config_args['vocab_size'] = 50257\n",
    "        config_args['vocab_size'] = 21128\n",
    "        config_args['context_length'] = 1024\n",
    "\n",
    "        # create a from-scratch minGPT model\n",
    "        config = GPTConfig(**config_args)\n",
    "        model = GPT(config)\n",
    "        sd = model.state_dict()\n",
    "        sd_keys = sd.keys()\n",
    "        sd_keys = [k for k in sd_keys if not k.endswith('.attn.bias')]\n",
    "\n",
    "        # init a huggingface transformers model\n",
    "        \n",
    "        # model_hf = GPT2LMHeadModel.from_pretrained(model_type)\n",
    "        model_hf = GPT2Model.from_pretrained(model_type)\n",
    "        sd_hf = model_hf.state_dict()\n",
    "        sd_keys_hf = sd_hf.keys()\n",
    "        sd_keys_hf = [k for k in sd_keys_hf if not k.endswith('.attn.masked_bias')]\n",
    "        sd_keys_hf = [k for k in sd_keys_hf if not k.endswith('.attn.bias')]\n",
    "        transposed = ['attn.c_attn.weight', 'attn.c_proj.weight', 'mlp.c_fc.weight', 'mlp.c_proj.weight']\n",
    "\n",
    "        assert len(sd_keys) == len(sd_keys_hf), f\"mismatched keys {len(sd_keys)} != {len(sd_keys_hf)}\"\n",
    "\n",
    "        # copy while ensuring all parameters are aligned in names and shape\n",
    "        for k in sd_keys_hf:\n",
    "            if any(k.endswith(w) for w in transposed):\n",
    "                # need to transpose Conv1D weights\n",
    "                assert sd_hf[k].shape[::-1]  == sd[\"transformer.\" + k].shape\n",
    "                with torch.no_grad():\n",
    "                    sd[\"transformer.\" + k].copy_(sd_hf[k].T)\n",
    "            else:\n",
    "                assert sd_hf[k].shape == sd[\"transformer.\" + k].shape\n",
    "                with torch.no_grad():\n",
    "                    sd[\"transformer.\" + k].copy_(sd_hf[k])\n",
    "        return model\n",
    "\n",
    "class GPT2ForClassification(nn.Module):\n",
    "    def __init__(self, base_model, num_classes):\n",
    "        super().__init__()\n",
    "        self.gpt2 = base_model\n",
    "        self.dropout = nn.Dropout(0.1)\n",
    "        self.classifer = nn.Linear(base_model.config.hidden_size, num_classes)\n",
    "        \n",
    "    def forward(self, input_ids, attention_mask=None):\n",
    "        outputs = self.gpt2(input_ids)\n",
    "        hidden_state = outputs\n",
    "        last_hidden_state = hidden_state[:, -1, :]\n",
    "        output = self.dropout(last_hidden_state)\n",
    "        logits = self.classifer(output)\n",
    "        return logits\n",
    "        \n",
    "tokenizer = BertTokenizer.from_pretrained(\"uer/gpt2-distil-chinese-cluecorpussmall\")"
   ]
  },
  {
   "cell_type": "code",
   "execution_count": 53,
   "metadata": {},
   "outputs": [],
   "source": [
    "def evaluate(model):\n",
    "    model.eval()\n",
    "    acc_num = 0\n",
    "    TP, FP, FN, TN = 0, 0, 0, 0  # 初始化四个指标\n",
    "    \n",
    "    with torch.inference_mode():\n",
    "        for batch in validloader:\n",
    "            if torch.cuda.is_available():\n",
    "                batch = {k: v.cuda() for k, v in batch.items()}\n",
    "            \n",
    "            # 获取模型预测\n",
    "            output = model(batch[\"input_ids\"], attention_mask=batch[\"attention_mask\"])\n",
    "            pred = torch.argmax(output, dim=-1)  # 获取预测类别\n",
    "            labels = batch[\"sentiments\"].long()  # 真实标签\n",
    "            \n",
    "            # 计算准确预测的数量\n",
    "            acc_num += (pred == labels).float().sum().item()\n",
    "            \n",
    "            # 计算 TP, FP, FN, TN\n",
    "            TP += ((pred == 1) & (labels == 1)).sum().item()\n",
    "            FP += ((pred == 1) & (labels == 0)).sum().item()\n",
    "            FN += ((pred == 0) & (labels == 1)).sum().item()\n",
    "            TN += ((pred == 0) & (labels == 0)).sum().item()\n",
    "\n",
    "    # 计算各项指标\n",
    "    accuracy = acc_num / len(validset)\n",
    "    \n",
    "    precision = TP / (TP + FP) if (TP + FP) > 0 else 0  # 避免除 0\n",
    "    recall = TP / (TP + FN) if (TP + FN) > 0 else 0  # 避免除 0\n",
    "    f1_score = (2 * precision * recall) / (precision + recall) if (precision + recall) > 0 else 0  # 避免除 0\n",
    "\n",
    "    return {\n",
    "        \"accuracy\": accuracy,\n",
    "        \"precision\": precision,\n",
    "        \"recall\": recall,\n",
    "        \"f1_score\": f1_score\n",
    "    }\n",
    "\n",
    "def train(model, epoch=3, log_step=100, optimizer=None):\n",
    "    global_step = 0\n",
    "    critierion = nn.CrossEntropyLoss()\n",
    "    for ep in trange(epoch):\n",
    "        model.train()\n",
    "\n",
    "        for batch in trainloader:\n",
    "            if torch.cuda.is_available():\n",
    "                batch = {k: v.cuda() for k, v in batch.items()}\n",
    "            optimizer.zero_grad()\n",
    "            logits = model(batch[\"input_ids\"], attention_mask=batch[\"attention_mask\"])\n",
    "            loss = critierion(logits, batch[\"sentiments\"])\n",
    "            loss.backward()\n",
    "            optimizer.step()\n",
    "            \n",
    "            if global_step % log_step == 0:\n",
    "                print(f\"ep: {ep+1}, global_step: {global_step}, loss: {loss.item()}\")\n",
    "                \n",
    "            global_step += 1\n",
    "        acc = evaluate(model)\n",
    "        print(f\"ep: {ep+1}, acc: {acc}\")"
   ]
  },
  {
   "cell_type": "code",
   "execution_count": 64,
   "metadata": {},
   "outputs": [],
   "source": [
    "config = GPTConfig()\n",
    "baseModel = GPT(config)\n",
    "model = GPT2ForClassification(baseModel, 2).to(device)\n"
   ]
  },
  {
   "cell_type": "code",
   "execution_count": 56,
   "metadata": {},
   "outputs": [
    {
     "name": "stderr",
     "output_type": "stream",
     "text": [
      "  0%|          | 0/8 [00:00<?, ?it/s]"
     ]
    },
    {
     "name": "stdout",
     "output_type": "stream",
     "text": [
      "ep: 1, global_step: 0, loss: 0.6732971668243408\n",
      "ep: 1, global_step: 100, loss: 0.7043816447257996\n",
      "ep: 1, global_step: 200, loss: 0.6535121202468872\n"
     ]
    },
    {
     "name": "stderr",
     "output_type": "stream",
     "text": [
      " 12%|█▎        | 1/8 [00:25<02:57, 25.42s/it]"
     ]
    },
    {
     "name": "stdout",
     "output_type": "stream",
     "text": [
      "ep: 1, acc: {'accuracy': 0.7874564459930313, 'precision': 0.7573221757322176, 'recall': 0.8438228438228438, 'f1_score': 0.7982359426681367}\n",
      "ep: 2, global_step: 300, loss: 0.3386944532394409\n",
      "ep: 2, global_step: 400, loss: 0.38297000527381897\n"
     ]
    },
    {
     "name": "stderr",
     "output_type": "stream",
     "text": [
      " 25%|██▌       | 2/8 [00:50<02:31, 25.20s/it]"
     ]
    },
    {
     "name": "stdout",
     "output_type": "stream",
     "text": [
      "ep: 2, acc: {'accuracy': 0.8490127758420442, 'precision': 0.9657320872274143, 'recall': 0.7226107226107226, 'f1_score': 0.8266666666666667}\n",
      "ep: 3, global_step: 500, loss: 0.23382598161697388\n",
      "ep: 3, global_step: 600, loss: 0.4337620437145233\n",
      "ep: 3, global_step: 700, loss: 0.019441373646259308\n"
     ]
    },
    {
     "name": "stderr",
     "output_type": "stream",
     "text": [
      " 38%|███▊      | 3/8 [01:15<02:06, 25.21s/it]"
     ]
    },
    {
     "name": "stdout",
     "output_type": "stream",
     "text": [
      "ep: 3, acc: {'accuracy': 0.9210220673635308, 'precision': 0.9787798408488063, 'recall': 0.8601398601398601, 'f1_score': 0.9156327543424317}\n",
      "ep: 4, global_step: 800, loss: 0.06591061502695084\n",
      "ep: 4, global_step: 900, loss: 0.1536676436662674\n"
     ]
    },
    {
     "name": "stderr",
     "output_type": "stream",
     "text": [
      " 50%|█████     | 4/8 [01:41<01:42, 25.57s/it]"
     ]
    },
    {
     "name": "stdout",
     "output_type": "stream",
     "text": [
      "ep: 4, acc: {'accuracy': 0.9337979094076655, 'precision': 0.984375, 'recall': 0.8811188811188811, 'f1_score': 0.9298892988929889}\n",
      "ep: 5, global_step: 1000, loss: 0.1606305092573166\n",
      "ep: 5, global_step: 1100, loss: 0.22378171980381012\n",
      "ep: 5, global_step: 1200, loss: 0.26578760147094727\n"
     ]
    },
    {
     "name": "stderr",
     "output_type": "stream",
     "text": [
      " 62%|██████▎   | 5/8 [02:11<01:21, 27.08s/it]"
     ]
    },
    {
     "name": "stdout",
     "output_type": "stream",
     "text": [
      "ep: 5, acc: {'accuracy': 0.9256678281068524, 'precision': 0.9815303430079155, 'recall': 0.8671328671328671, 'f1_score': 0.9207920792079207}\n",
      "ep: 6, global_step: 1300, loss: 0.22605058550834656\n",
      "ep: 6, global_step: 1400, loss: 0.07575403898954391\n"
     ]
    },
    {
     "name": "stderr",
     "output_type": "stream",
     "text": [
      " 75%|███████▌  | 6/8 [02:41<00:56, 28.03s/it]"
     ]
    },
    {
     "name": "stdout",
     "output_type": "stream",
     "text": [
      "ep: 6, acc: {'accuracy': 0.9558652729384437, 'precision': 0.9851116625310173, 'recall': 0.9254079254079254, 'f1_score': 0.954326923076923}\n",
      "ep: 7, global_step: 1500, loss: 0.0030954231042414904\n",
      "ep: 7, global_step: 1600, loss: 0.0073699988424777985\n",
      "ep: 7, global_step: 1700, loss: 0.00184864760376513\n"
     ]
    },
    {
     "name": "stderr",
     "output_type": "stream",
     "text": [
      " 88%|████████▊ | 7/8 [03:13<00:29, 29.22s/it]"
     ]
    },
    {
     "name": "stdout",
     "output_type": "stream",
     "text": [
      "ep: 7, acc: {'accuracy': 0.9407665505226481, 'precision': 0.9947643979057592, 'recall': 0.8857808857808858, 'f1_score': 0.93711467324291}\n",
      "ep: 8, global_step: 1800, loss: 0.06904040277004242\n",
      "ep: 8, global_step: 1900, loss: 0.010874311439692974\n"
     ]
    },
    {
     "name": "stderr",
     "output_type": "stream",
     "text": [
      "100%|██████████| 8/8 [03:45<00:00, 28.23s/it]"
     ]
    },
    {
     "name": "stdout",
     "output_type": "stream",
     "text": [
      "ep: 8, acc: {'accuracy': 0.9477351916376306, 'precision': 0.9897959183673469, 'recall': 0.9044289044289044, 'f1_score': 0.9451887941534713}\n"
     ]
    },
    {
     "name": "stderr",
     "output_type": "stream",
     "text": [
      "\n"
     ]
    }
   ],
   "source": [
    "optimizer = AdamW(model.parameters(), lr=1e-5)\n",
    "\n",
    "train(model, 8, 100, optimizer)"
   ]
  },
  {
   "cell_type": "code",
   "execution_count": 57,
   "metadata": {},
   "outputs": [
    {
     "name": "stdout",
     "output_type": "stream",
     "text": [
      "Input：就是那些一问一间的小时光因为再也不会有而显得珍贵。最后的最后，是怀念你。\n",
      "Prediction:好评！\n"
     ]
    }
   ],
   "source": [
    "comment = \"就是那些一问一间的小时光因为再也不会有而显得珍贵。最后的最后，是怀念你。\"\n",
    "id2_label = {0: \"差评！\", 1: \"好评！\"}\n",
    "model.eval()\n",
    "# tokenizer(sen)['input_ids']\n",
    "with torch.inference_mode():\n",
    "    inputs = tokenizer(comment, return_tensors=\"pt\")\n",
    "    # inputs = {k: v.cuda() for k, v in inputs.items()}\n",
    "    logits = model(inputs['input_ids'].cuda(), attention_mask=inputs['attention_mask'].cuda())\n",
    "    pred = torch.argmax(logits, dim=1)\n",
    "    print(f\"Input：{comment}\\nPrediction:{id2_label.get(pred.item())}\")"
   ]
  },
  {
   "cell_type": "code",
   "execution_count": 96,
   "metadata": {},
   "outputs": [],
   "source": [
    "torch.save(model.state_dict(), \"GPT2-small_with_classification_head.pt\")"
   ]
  },
  {
   "cell_type": "code",
   "execution_count": 62,
   "metadata": {},
   "outputs": [
    {
     "data": {
      "text/plain": [
       "{'accuracy': 0.991869918699187,\n",
       " 'precision': 0.9884259259259259,\n",
       " 'recall': 0.9953379953379954,\n",
       " 'f1_score': 0.9918699186991871}"
      ]
     },
     "execution_count": 62,
     "metadata": {},
     "output_type": "execute_result"
    }
   ],
   "source": [
    "model.load_state_dict(torch.load(\"GPT2-small_with_classification_head.pt\"))\n",
    "model.eval()\n",
    "evaluate(model)"
   ]
  },
  {
   "cell_type": "markdown",
   "metadata": {},
   "source": [
    "# 3. Ablation Study and further exploration\n",
    "## 3.1 Freezing the pretrained weights\n",
    "However, we can see that the model doesn't perform well. This is maybe because the **feature extractor** is not good enough. We can see that the model only performs a little better than random guess."
   ]
  },
  {
   "cell_type": "code",
   "execution_count": 68,
   "metadata": {},
   "outputs": [
    {
     "name": "stdout",
     "output_type": "stream",
     "text": [
      "loading weights from pretrained gpt: uer/gpt2-distil-chinese-cluecorpussmall\n"
     ]
    }
   ],
   "source": [
    "config = GPTConfig()\n",
    "baseModel = GPT(config)\n",
    "baseModel = baseModel.from_pretrained(\"uer/gpt2-distil-chinese-cluecorpussmall\")\n",
    "\n",
    "model = GPT2ForClassification(baseModel, 2).to(device)\n",
    "\"Only train the last layer\"\n",
    "for param in model.gpt2.parameters():\n",
    "    param.requires_grad = False "
   ]
  },
  {
   "cell_type": "code",
   "execution_count": 69,
   "metadata": {},
   "outputs": [
    {
     "name": "stderr",
     "output_type": "stream",
     "text": [
      "  0%|          | 0/6 [00:00<?, ?it/s]"
     ]
    },
    {
     "name": "stdout",
     "output_type": "stream",
     "text": [
      "ep: 1, global_step: 0, loss: 0.7162313461303711\n",
      "ep: 1, global_step: 100, loss: 0.7460144758224487\n",
      "ep: 1, global_step: 200, loss: 0.7517682313919067\n"
     ]
    },
    {
     "name": "stderr",
     "output_type": "stream",
     "text": [
      " 17%|█▋        | 1/6 [00:04<00:22,  4.48s/it]"
     ]
    },
    {
     "name": "stdout",
     "output_type": "stream",
     "text": [
      "ep: 1, acc: {'accuracy': 0.4715447154471545, 'precision': 0.47703180212014135, 'recall': 0.6293706293706294, 'f1_score': 0.5427135678391959}\n",
      "ep: 2, global_step: 300, loss: 0.7182636857032776\n",
      "ep: 2, global_step: 400, loss: 0.6732214093208313\n"
     ]
    },
    {
     "name": "stderr",
     "output_type": "stream",
     "text": [
      " 33%|███▎      | 2/6 [00:08<00:17,  4.36s/it]"
     ]
    },
    {
     "name": "stdout",
     "output_type": "stream",
     "text": [
      "ep: 2, acc: {'accuracy': 0.49825783972125437, 'precision': 0.4974182444061962, 'recall': 0.6736596736596736, 'f1_score': 0.5722772277227722}\n",
      "ep: 3, global_step: 500, loss: 0.6834787726402283\n",
      "ep: 3, global_step: 600, loss: 0.73627769947052\n",
      "ep: 3, global_step: 700, loss: 0.7711343765258789\n"
     ]
    },
    {
     "name": "stderr",
     "output_type": "stream",
     "text": [
      " 50%|█████     | 3/6 [00:13<00:12,  4.31s/it]"
     ]
    },
    {
     "name": "stdout",
     "output_type": "stream",
     "text": [
      "ep: 3, acc: {'accuracy': 0.519163763066202, 'precision': 0.5272727272727272, 'recall': 0.337995337995338, 'f1_score': 0.4119318181818182}\n",
      "ep: 4, global_step: 800, loss: 0.730109691619873\n",
      "ep: 4, global_step: 900, loss: 0.771811842918396\n"
     ]
    },
    {
     "name": "stderr",
     "output_type": "stream",
     "text": [
      " 67%|██████▋   | 4/6 [00:17<00:08,  4.24s/it]"
     ]
    },
    {
     "name": "stdout",
     "output_type": "stream",
     "text": [
      "ep: 4, acc: {'accuracy': 0.5284552845528455, 'precision': 0.5253863134657837, 'recall': 0.5547785547785548, 'f1_score': 0.5396825396825397}\n",
      "ep: 5, global_step: 1000, loss: 0.7227887511253357\n",
      "ep: 5, global_step: 1100, loss: 0.6726238131523132\n",
      "ep: 5, global_step: 1200, loss: 0.6882484555244446\n"
     ]
    },
    {
     "name": "stderr",
     "output_type": "stream",
     "text": [
      " 83%|████████▎ | 5/6 [00:21<00:04,  4.16s/it]"
     ]
    },
    {
     "name": "stdout",
     "output_type": "stream",
     "text": [
      "ep: 5, acc: {'accuracy': 0.5319396051103368, 'precision': 0.5287610619469026, 'recall': 0.5571095571095571, 'f1_score': 0.5425652667423383}\n",
      "ep: 6, global_step: 1300, loss: 0.6368072032928467\n",
      "ep: 6, global_step: 1400, loss: 0.6140695810317993\n"
     ]
    },
    {
     "name": "stderr",
     "output_type": "stream",
     "text": [
      "100%|██████████| 6/6 [00:25<00:00,  4.18s/it]"
     ]
    },
    {
     "name": "stdout",
     "output_type": "stream",
     "text": [
      "ep: 6, acc: {'accuracy': 0.5563298490127758, 'precision': 0.5623342175066313, 'recall': 0.49417249417249415, 'f1_score': 0.5260545905707196}\n"
     ]
    },
    {
     "name": "stderr",
     "output_type": "stream",
     "text": [
      "\n"
     ]
    }
   ],
   "source": [
    "optimizer = AdamW(model.parameters(), lr=1e-5)\n",
    "\n",
    "train(model, 6, 100, optimizer)"
   ]
  },
  {
   "cell_type": "code",
   "execution_count": 70,
   "metadata": {},
   "outputs": [
    {
     "data": {
      "text/plain": [
       "{'accuracy': 0.5563298490127758,\n",
       " 'precision': 0.5623342175066313,\n",
       " 'recall': 0.49417249417249415,\n",
       " 'f1_score': 0.5260545905707196}"
      ]
     },
     "execution_count": 70,
     "metadata": {},
     "output_type": "execute_result"
    }
   ],
   "source": [
    "evaluate(model)"
   ]
  },
  {
   "cell_type": "markdown",
   "metadata": {},
   "source": [
    "## 3.2 GPT block without FFN\n",
    "> In this part, we try to remove the FFN layer in the GPT block and see the performance of the model."
   ]
  },
  {
   "cell_type": "code",
   "execution_count": 13,
   "metadata": {},
   "outputs": [],
   "source": [
    "class CausalSelfAttention(nn.Module):\n",
    "    def __init__(self, config):\n",
    "        super().__init__()\n",
    "        # 'embd_size' sized vector divided into 'num_heads' heads\n",
    "        assert config.embd_size % config.num_heads == 0, f\"embedding dim should be divisible by number of heads\"\n",
    "        self.num_heads = config.num_heads\n",
    "        self.embd_size = config.embd_size\n",
    "        # batched key, query, and value projections for all heads\n",
    "        self.c_attn = nn.Linear(config.embd_size, 3 * config.embd_size)\n",
    "        self.c_proj = nn.Linear(config.embd_size, config.embd_size)\n",
    "        self.c_proj.SCALE_INIT = 1.0\n",
    "        # not really a bias, more of a mask, but following OpenAI/HF naming convention\n",
    "        # self.register_buffer(\"bias\", torch.tril(torch.ones(config.context_length, config.context_length)).view(1, 1, config.context_length, config.context_length))\n",
    "\n",
    "    def forward(self, x):\n",
    "        B, T, C = x.shape\n",
    "     \n",
    "        qkv = self.c_attn(x)    # (B, T, 3C)\n",
    "        q, k, v = qkv.split(self.embd_size, dim=-1)    # (B,T,C), (B,T,C), (B,T,C)\n",
    "        q = q.view(B, T, self.num_heads, self.embd_size // self.num_heads).transpose(1, 2)    # (B,nh,T,hs)\n",
    "        k = k.view(B, T, self.num_heads, self.embd_size // self.num_heads).transpose(1, 2)    # (B,nh,T,hs)\n",
    "        v = v.view(B, T, self.num_heads, self.embd_size // self.num_heads).transpose(1, 2)    # (B,nh,T,hs)\n",
    "    \n",
    "        out = F.scaled_dot_product_attention(q, k, v, is_causal=True)    # (B,nh,T,hs)\n",
    "        out = out.transpose(1, 2).contiguous().view(B, T, C)    # (B,nh,T,hs) --> (B,T,nh,hs) --> (B,T,C=nh*hs)\n",
    "        out = self.c_proj(out)    # (B,T,C) --> (B,T,C)\n",
    "        return out\n",
    "\n",
    "\n",
    "class MLP(nn.Module):\n",
    "    def __init__(self, config):\n",
    "        super().__init__()\n",
    "        self.c_fc = nn.Linear(config.embd_size, 4 * config.embd_size)\n",
    "        self.gelu = nn.GELU(approximate='tanh')    # approximate='tanh' used to try to reproduce gpt2 paper\n",
    "        self.c_proj = nn.Linear(4 * config.embd_size, config.embd_size)\n",
    "        self.c_proj.SCALE_INIT = 1.0\n",
    "\n",
    "    def forward(self, x):\n",
    "        x = self.c_fc(x)\n",
    "        x = self.gelu(x)\n",
    "        x = self.c_proj(x)\n",
    "        return x\n",
    "\n",
    "\n",
    "class BlockwithoutFFN(nn.Module):\n",
    "    \"\"\" Transformer Encoder block \"\"\"\n",
    "\n",
    "    def __init__(self, config):\n",
    "        super().__init__()\n",
    "        self.ln_1 = nn.LayerNorm(config.embd_size)\n",
    "        self.attn = CausalSelfAttention(config)\n",
    "        self.ln_2 = nn.LayerNorm(config.embd_size)\n",
    "        self.mlp = MLP(config)\n",
    "    \n",
    "    def forward(self, x):\n",
    "        x = x + self.attn(self.ln_1(x))\n",
    "        # x = x + self.mlp(self.ln_2(x))\n",
    "        return x\n",
    "    \n",
    "class BlockwithFFN(nn.Module):\n",
    "    \"\"\" Transformer Encoder block \"\"\"\n",
    "\n",
    "    def __init__(self, config):\n",
    "        super().__init__()\n",
    "        self.ln_1 = nn.LayerNorm(config.embd_size)\n",
    "        self.attn = CausalSelfAttention(config)\n",
    "        self.ln_2 = nn.LayerNorm(config.embd_size)\n",
    "        self.mlp = MLP(config)\n",
    "    \n",
    "    def forward(self, x):\n",
    "        x = x + self.attn(self.ln_1(x))\n",
    "        x = x + self.mlp(self.ln_2(x))\n",
    "        return x"
   ]
  },
  {
   "cell_type": "code",
   "execution_count": 14,
   "metadata": {},
   "outputs": [],
   "source": [
    "class GPTLM_wo_FFN(nn.Module):\n",
    "    def __init__(self, config):\n",
    "        super().__init__()\n",
    "        self.config = config\n",
    "        self.transformer = nn.ModuleDict(dict(\n",
    "            wte = nn.Embedding(self.config.vocab_size, self.config.embd_size),\n",
    "            wpe = nn.Embedding(self.config.context_length, self.config.embd_size),\n",
    "            h = nn.ModuleList([BlockwithoutFFN(self.config) for _ in range(self.config.num_layers)]),\n",
    "            ln_f = nn.LayerNorm(self.config.embd_size)\n",
    "        ))\n",
    "        # language modeling head\n",
    "        self.lm_head = nn.Linear(self.config.embd_size, self.config.vocab_size, bias=False)\n",
    "        # weight sharing scheme (reduces 768*50267=~40M params, fewer params, more efficient)\n",
    "        self.transformer.wte.weight = self.lm_head.weight\n",
    "        # init params (iterates over all submodules and applies _init_weights)\n",
    "        self.apply(self._init_weights)\n",
    "\n",
    "    def _init_weights(self, module):\n",
    "        if isinstance(module, nn.Linear):\n",
    "            std = 0.02\n",
    "            if hasattr(module, 'SCALE_INIT'):\n",
    "                std /= (2 * self.config.num_layers)**0.5\n",
    "            torch.nn.init.normal_(module.weight, mean=0, std=std)    # as per openai gpt-2 source code\n",
    "            if module.bias is not None:\n",
    "                torch.nn.init.zeros_(module.bias)\n",
    "        elif isinstance(module, nn.Embedding):\n",
    "            torch.nn.init.normal_(module.weight, mean=0, std=0.02)\n",
    "\n",
    "    def forward(self, idx, targets=None):\n",
    "        B, T = idx.shape\n",
    "        assert T <= self.config.context_length, f'sequence length {T} should be <= {self.config.context_length}'\n",
    "        pos = torch.arange(0, T, dtype=torch.long, device=idx.device)    # (T,)\n",
    "        pos_embd = self.transformer.wpe(pos)    # (T, embd_size)\n",
    "        tok_embd = self.transformer.wte(idx)    # (B, T, embd_size)\n",
    "        x = pos_embd + tok_embd    # (B, T, embd_size)\n",
    "        for block in self.transformer.h:\n",
    "            x = block(x)\n",
    "        x = self.transformer.ln_f(x)    # (B, T, embd_size)\n",
    "        logits = self.lm_head(x)    # (B, T, vocab_size)\n",
    "        loss = None\n",
    "        if targets is not None:\n",
    "            loss = F.cross_entropy(logits.view(-1, logits.shape[-1]), targets.view(-1))\n",
    "        return logits, loss\n",
    "\n",
    "    def generate(self, input_ids, max_length=65): ## only to generate the <好评> or <差评>\n",
    "        gen_tokens = input_ids\n",
    "        while gen_tokens.shape[-1] < max_length:\n",
    "            with torch.inference_mode():\n",
    "                logits, loss = self(gen_tokens.to(device))\n",
    "                logits = logits[:, -1, :]\n",
    "                probs = F.softmax(logits, dim=-1)\n",
    "                next_tok = torch.argmax(probs, dim=-1, keepdim=True)\n",
    "                gen_tokens = torch.cat([gen_tokens, next_tok], dim=-1)\n",
    "        return gen_tokens\n",
    "    \n",
    "class GPTLM_with_FFN(nn.Module):\n",
    "    def __init__(self, config):\n",
    "        super().__init__()\n",
    "        self.config = config\n",
    "        self.transformer = nn.ModuleDict(dict(\n",
    "            wte = nn.Embedding(self.config.vocab_size, self.config.embd_size),\n",
    "            wpe = nn.Embedding(self.config.context_length, self.config.embd_size),\n",
    "            h = nn.ModuleList([BlockwithFFN(self.config) for _ in range(self.config.num_layers)]),\n",
    "            ln_f = nn.LayerNorm(self.config.embd_size)\n",
    "        ))\n",
    "        # language modeling head\n",
    "        self.lm_head = nn.Linear(self.config.embd_size, self.config.vocab_size, bias=False)\n",
    "        # weight sharing scheme (reduces 768*50267=~40M params, fewer params, more efficient)\n",
    "        self.transformer.wte.weight = self.lm_head.weight\n",
    "        # init params (iterates over all submodules and applies _init_weights)\n",
    "        self.apply(self._init_weights)\n",
    "\n",
    "    def _init_weights(self, module):\n",
    "        if isinstance(module, nn.Linear):\n",
    "            std = 0.02\n",
    "            if hasattr(module, 'SCALE_INIT'):\n",
    "                std /= (2 * self.config.num_layers)**0.5\n",
    "            torch.nn.init.normal_(module.weight, mean=0, std=std)    # as per openai gpt-2 source code\n",
    "            if module.bias is not None:\n",
    "                torch.nn.init.zeros_(module.bias)\n",
    "        elif isinstance(module, nn.Embedding):\n",
    "            torch.nn.init.normal_(module.weight, mean=0, std=0.02)\n",
    "\n",
    "    def forward(self, idx, targets=None):\n",
    "        B, T = idx.shape\n",
    "        assert T <= self.config.context_length, f'sequence length {T} should be <= {self.config.context_length}'\n",
    "        pos = torch.arange(0, T, dtype=torch.long, device=idx.device)    # (T,)\n",
    "        pos_embd = self.transformer.wpe(pos)    # (T, embd_size)\n",
    "        tok_embd = self.transformer.wte(idx)    # (B, T, embd_size)\n",
    "        x = pos_embd + tok_embd    # (B, T, embd_size)\n",
    "        for block in self.transformer.h:\n",
    "            x = block(x)\n",
    "        x = self.transformer.ln_f(x)    # (B, T, embd_size)\n",
    "        logits = self.lm_head(x)    # (B, T, vocab_size)\n",
    "        loss = None\n",
    "        if targets is not None:\n",
    "            loss = F.cross_entropy(logits.view(-1, logits.shape[-1]), targets.view(-1))\n",
    "        return logits, loss\n",
    "\n",
    "    def generate(self, input_ids, max_length=65): ## only to generate the <好评> or <差评>\n",
    "        gen_tokens = input_ids\n",
    "        while gen_tokens.shape[-1] < max_length:\n",
    "            with torch.inference_mode():\n",
    "                logits, loss = self(gen_tokens.to(device))\n",
    "                logits = logits[:, -1, :]\n",
    "                probs = F.softmax(logits, dim=-1)\n",
    "                next_tok = torch.argmax(probs, dim=-1, keepdim=True)\n",
    "                gen_tokens = torch.cat([gen_tokens, next_tok], dim=-1)\n",
    "        return gen_tokens\n",
    "    \n",
    "      "
   ]
  },
  {
   "cell_type": "code",
   "execution_count": 32,
   "metadata": {},
   "outputs": [],
   "source": [
    "@dataclass\n",
    "class GPTConfig:\n",
    "    context_length: int = 128   # max context / sequence length\n",
    "    vocab_size: int = 21132    # number of tokens for bert-tokenizer + special tokens\n",
    "    num_layers: int = 2\n",
    "    # embd_size: int = 768   # embedding dim\n",
    "    embd_size: int = 384\n",
    "    num_heads: int = 12\n",
    "    hidden_size: int = 384\n",
    "    \n",
    "config = GPTConfig()\n",
    "model_1 = GPTLM_with_FFN(config).to(device)\n",
    "model_2 = GPTLM_wo_FFN(config).to(device)\n",
    "optimizer_1 = torch.optim.AdamW(model_1.parameters(), lr=5e-5)\n",
    "optimizer_2 = torch.optim.AdamW(model_2.parameters(), lr=5e-5)"
   ]
  },
  {
   "cell_type": "code",
   "execution_count": 16,
   "metadata": {},
   "outputs": [],
   "source": [
    "tokenizer = BertTokenizer.from_pretrained(\"uer/gpt2-distil-chinese-cluecorpussmall\")\n",
    "\n",
    "special_tokens_dict = {\"additional_special_tokens\": [\"<好评>\", \"<差评>\", \"<review>\", \"<sentiment>\"]}\n",
    "tokenizer.add_special_tokens(special_tokens_dict)\n",
    "df = pd.read_csv(\"./reviews.csv\")\n",
    "df_positive = df[df['sentiment'] == 1]\n",
    "df_negative = df[df['sentiment'] == 0]\n",
    "n_positive = len(df_positive)\n",
    "\n",
    "df_negative_over = df_negative.sample(n=n_positive, replace=True, random_state=42)\n",
    "df = pd.concat([df_positive, df_negative_over])\n",
    "\n",
    "train_df, val_df = train_test_split(df, test_size=0.1, random_state=42)\n",
    "trainset = TrainDataset(train_df, tokenizer)\n",
    "validset = ValidDataset(val_df, tokenizer)\n",
    "trainloader = DataLoader(trainset, batch_size=64, shuffle=True)\n",
    "validloader = DataLoader(validset, batch_size=64, shuffle=True) \n"
   ]
  },
  {
   "cell_type": "code",
   "execution_count": null,
   "metadata": {},
   "outputs": [],
   "source": [
    "def evaluate(model):\n",
    "    model.eval()\n",
    "    total_samples = 0\n",
    "    correct_preds = 0\n",
    "    TP = 0\n",
    "    TN = 0\n",
    "    FP = 0\n",
    "    FN = 0\n",
    "    \n",
    "    with torch.no_grad():\n",
    "        for batch in validloader:\n",
    "            input_ids = batch['input_ids'].to(device)\n",
    "            labels = batch['labels'].to(device)\n",
    "            attention_mask = batch['attention_mask'].to(device)\n",
    "            batch_size = input_ids.size(0)\n",
    "            actual_lengths = attention_mask.sum(dim=1) \n",
    "    \n",
    "            for i in range(batch_size):\n",
    "                \n",
    "                prompt_len = int(actual_lengths[i].item())\n",
    "                single_input_ids = input_ids[i][:prompt_len].unsqueeze(0)\n",
    "                single_mask = attention_mask[i][:prompt_len].unsqueeze(0)\n",
    "                generated_ids = model.generate(single_input_ids, max_length=single_input_ids.shape[1]+1)\n",
    "                answer_ids = generated_ids[0, prompt_len:prompt_len+1]\n",
    "\n",
    "                # print(f\"generated_ids: {generated_ids}\")\n",
    "                # print(f\"answer_ids: {answer_ids}\")\n",
    "                # print(f\"labels: {labels[i]}\")\n",
    "\n",
    "    \n",
    "                true_text = labels[i]\n",
    "                # print(f\"answer_ids: {answer_ids}, true_text: {true_text}\")\n",
    "     \n",
    "                total_samples += 1\n",
    "                \n",
    "                # 这里简单判断：如果预测结果中包含真实标签，就认为预测正确\n",
    "                if true_text == answer_ids:\n",
    "                    correct_preds += 1\n",
    "                if true_text == 21128 and answer_ids == 21128:\n",
    "                    TP += 1\n",
    "                elif true_text == 21129 and answer_ids == 21129:\n",
    "                    TN += 1\n",
    "                elif true_text == 21128 and answer_ids != 21128:\n",
    "                    FN += 1\n",
    "                elif true_text == 21129 and answer_ids != 21129:\n",
    "                    FP += 1\n",
    "                    \n",
    "\n",
    "    metrics = {}                          \n",
    "    accuracy = correct_preds / total_samples if total_samples > 0 else 0.0\n",
    "    precision = TP / (TP + FP) if (TP + FP) > 0 else 0.0\n",
    "    recall = TP / (TP + FN) if (TP + FN) > 0 else 0.0\n",
    "    \n",
    "    f1_score = 2 * (precision * recall) / (precision + recall) if (precision + recall) > 0 else 0.0\n",
    "    metrics['accuracy'] = accuracy\n",
    "    metrics['precision'] = precision\n",
    "    metrics['recall'] = recall\n",
    "    metrics['f1_score'] = f1_score\n",
    "\n",
    "    model.train()\n",
    "    return metrics\n",
    "                \n",
    "            \n",
    "def train(model, optimizer, num_epochs):\n",
    "    model.train()\n",
    "    metrics_history = {\n",
    "        \"accuracy\": [0.0],\n",
    "        \"precision\": [0.0],\n",
    "        \"recall\": [0.0],\n",
    "        \"f1_score\": [0.0]\n",
    "    }\n",
    "    for epoch in trange(num_epochs):\n",
    "\n",
    "        for step, batch in enumerate(trainloader):\n",
    "            input_ids = batch[\"input_ids\"].to(device)\n",
    "            labels = batch[\"labels\"].to(device)\n",
    "            \n",
    "            optimizer.zero_grad()\n",
    "            logits, loss = model(input_ids, labels)\n",
    "            \n",
    "            loss.backward()\n",
    "            optimizer.step()\n",
    "            \n",
    "            if step % 50 == 0:\n",
    "                print(f\"Epoch: {epoch} Step {step}: Loss = {loss.item():.6f}\")\n",
    "        \n",
    "        metrics = evaluate(model)\n",
    "        # print(f\"Accuracy: {metrics['accuracy']:.4f}, Precision: {metrics['precision']:.4f}, Recall: {metrics['recall']:.4f}, F1 Score: {metrics['f1_score']:.4f}\")\n",
    "        metrics_history[\"accuracy\"].append(metrics[\"accuracy\"])\n",
    "        metrics_history[\"precision\"].append(metrics[\"precision\"])\n",
    "        metrics_history[\"recall\"].append(metrics[\"recall\"])\n",
    "        metrics_history[\"f1_score\"].append(metrics[\"f1_score\"])\n",
    "        \n",
    "        model.train()\n",
    "        \n",
    "\n",
    "    print(\"Training complete!\")\n",
    "    return metrics_history"
   ]
  },
  {
   "cell_type": "code",
   "execution_count": 33,
   "metadata": {},
   "outputs": [
    {
     "name": "stderr",
     "output_type": "stream",
     "text": [
      "  0%|          | 0/10 [00:00<?, ?it/s]"
     ]
    },
    {
     "name": "stdout",
     "output_type": "stream",
     "text": [
      "Epoch: 0 Step 0: Loss = 8.562180\n",
      "Epoch: 0 Step 50: Loss = 1.834144\n",
      "Epoch: 0 Step 100: Loss = 0.787897\n"
     ]
    },
    {
     "name": "stderr",
     "output_type": "stream",
     "text": [
      " 10%|█         | 1/10 [00:04<00:42,  4.67s/it]"
     ]
    },
    {
     "name": "stdout",
     "output_type": "stream",
     "text": [
      "Epoch: 1 Step 0: Loss = 0.539627\n",
      "Epoch: 1 Step 50: Loss = 0.264601\n",
      "Epoch: 1 Step 100: Loss = 0.156345\n"
     ]
    },
    {
     "name": "stderr",
     "output_type": "stream",
     "text": [
      " 20%|██        | 2/10 [00:09<00:36,  4.59s/it]"
     ]
    },
    {
     "name": "stdout",
     "output_type": "stream",
     "text": [
      "Epoch: 2 Step 0: Loss = 0.132851\n",
      "Epoch: 2 Step 50: Loss = 0.094097\n",
      "Epoch: 2 Step 100: Loss = 0.072443\n"
     ]
    },
    {
     "name": "stderr",
     "output_type": "stream",
     "text": [
      " 30%|███       | 3/10 [00:13<00:32,  4.60s/it]"
     ]
    },
    {
     "name": "stdout",
     "output_type": "stream",
     "text": [
      "Epoch: 3 Step 0: Loss = 0.064548\n",
      "Epoch: 3 Step 50: Loss = 0.053620\n",
      "Epoch: 3 Step 100: Loss = 0.043128\n"
     ]
    },
    {
     "name": "stderr",
     "output_type": "stream",
     "text": [
      " 40%|████      | 4/10 [00:18<00:27,  4.57s/it]"
     ]
    },
    {
     "name": "stdout",
     "output_type": "stream",
     "text": [
      "Epoch: 4 Step 0: Loss = 0.039372\n",
      "Epoch: 4 Step 50: Loss = 0.029124\n",
      "Epoch: 4 Step 100: Loss = 0.026781\n"
     ]
    },
    {
     "name": "stderr",
     "output_type": "stream",
     "text": [
      " 50%|█████     | 5/10 [00:22<00:22,  4.57s/it]"
     ]
    },
    {
     "name": "stdout",
     "output_type": "stream",
     "text": [
      "Epoch: 5 Step 0: Loss = 0.026099\n",
      "Epoch: 5 Step 50: Loss = 0.019220\n",
      "Epoch: 5 Step 100: Loss = 0.019972\n"
     ]
    },
    {
     "name": "stderr",
     "output_type": "stream",
     "text": [
      " 60%|██████    | 6/10 [00:27<00:18,  4.62s/it]"
     ]
    },
    {
     "name": "stdout",
     "output_type": "stream",
     "text": [
      "Epoch: 6 Step 0: Loss = 0.019878\n",
      "Epoch: 6 Step 50: Loss = 0.015423\n",
      "Epoch: 6 Step 100: Loss = 0.014033\n"
     ]
    },
    {
     "name": "stderr",
     "output_type": "stream",
     "text": [
      " 70%|███████   | 7/10 [00:32<00:13,  4.63s/it]"
     ]
    },
    {
     "name": "stdout",
     "output_type": "stream",
     "text": [
      "Epoch: 7 Step 0: Loss = 0.014427\n",
      "Epoch: 7 Step 50: Loss = 0.012568\n",
      "Epoch: 7 Step 100: Loss = 0.010630\n"
     ]
    },
    {
     "name": "stderr",
     "output_type": "stream",
     "text": [
      " 80%|████████  | 8/10 [00:36<00:09,  4.62s/it]"
     ]
    },
    {
     "name": "stdout",
     "output_type": "stream",
     "text": [
      "Epoch: 8 Step 0: Loss = 0.009525\n",
      "Epoch: 8 Step 50: Loss = 0.008943\n",
      "Epoch: 8 Step 100: Loss = 0.007533\n"
     ]
    },
    {
     "name": "stderr",
     "output_type": "stream",
     "text": [
      " 90%|█████████ | 9/10 [00:41<00:04,  4.67s/it]"
     ]
    },
    {
     "name": "stdout",
     "output_type": "stream",
     "text": [
      "Epoch: 9 Step 0: Loss = 0.007259\n",
      "Epoch: 9 Step 50: Loss = 0.007472\n",
      "Epoch: 9 Step 100: Loss = 0.006366\n"
     ]
    },
    {
     "name": "stderr",
     "output_type": "stream",
     "text": [
      "100%|██████████| 10/10 [00:46<00:00,  4.64s/it]\n"
     ]
    },
    {
     "name": "stdout",
     "output_type": "stream",
     "text": [
      "Training complete!\n"
     ]
    },
    {
     "name": "stderr",
     "output_type": "stream",
     "text": [
      "  0%|          | 0/10 [00:00<?, ?it/s]"
     ]
    },
    {
     "name": "stdout",
     "output_type": "stream",
     "text": [
      "Epoch: 0 Step 0: Loss = 7.707655\n",
      "Epoch: 0 Step 50: Loss = 1.186710\n",
      "Epoch: 0 Step 100: Loss = 0.534604\n"
     ]
    },
    {
     "name": "stderr",
     "output_type": "stream",
     "text": [
      " 10%|█         | 1/10 [00:04<00:40,  4.51s/it]"
     ]
    },
    {
     "name": "stdout",
     "output_type": "stream",
     "text": [
      "Epoch: 1 Step 0: Loss = 0.397919\n",
      "Epoch: 1 Step 50: Loss = 0.207985\n",
      "Epoch: 1 Step 100: Loss = 0.133827\n"
     ]
    },
    {
     "name": "stderr",
     "output_type": "stream",
     "text": [
      " 20%|██        | 2/10 [00:08<00:35,  4.41s/it]"
     ]
    },
    {
     "name": "stdout",
     "output_type": "stream",
     "text": [
      "Epoch: 2 Step 0: Loss = 0.112413\n",
      "Epoch: 2 Step 50: Loss = 0.082740\n",
      "Epoch: 2 Step 100: Loss = 0.066005\n"
     ]
    },
    {
     "name": "stderr",
     "output_type": "stream",
     "text": [
      " 30%|███       | 3/10 [00:13<00:30,  4.35s/it]"
     ]
    },
    {
     "name": "stdout",
     "output_type": "stream",
     "text": [
      "Epoch: 3 Step 0: Loss = 0.060404\n",
      "Epoch: 3 Step 50: Loss = 0.050346\n",
      "Epoch: 3 Step 100: Loss = 0.042566\n"
     ]
    },
    {
     "name": "stderr",
     "output_type": "stream",
     "text": [
      " 40%|████      | 4/10 [00:17<00:25,  4.32s/it]"
     ]
    },
    {
     "name": "stdout",
     "output_type": "stream",
     "text": [
      "Epoch: 4 Step 0: Loss = 0.040473\n",
      "Epoch: 4 Step 50: Loss = 0.036104\n",
      "Epoch: 4 Step 100: Loss = 0.032098\n"
     ]
    },
    {
     "name": "stderr",
     "output_type": "stream",
     "text": [
      " 50%|█████     | 5/10 [00:21<00:21,  4.30s/it]"
     ]
    },
    {
     "name": "stdout",
     "output_type": "stream",
     "text": [
      "Epoch: 5 Step 0: Loss = 0.031663\n",
      "Epoch: 5 Step 50: Loss = 0.027419\n",
      "Epoch: 5 Step 100: Loss = 0.026395\n"
     ]
    },
    {
     "name": "stderr",
     "output_type": "stream",
     "text": [
      " 60%|██████    | 6/10 [00:25<00:17,  4.29s/it]"
     ]
    },
    {
     "name": "stdout",
     "output_type": "stream",
     "text": [
      "Epoch: 6 Step 0: Loss = 0.023604\n",
      "Epoch: 6 Step 50: Loss = 0.021186\n",
      "Epoch: 6 Step 100: Loss = 0.018681\n"
     ]
    },
    {
     "name": "stderr",
     "output_type": "stream",
     "text": [
      " 70%|███████   | 7/10 [00:30<00:12,  4.33s/it]"
     ]
    },
    {
     "name": "stdout",
     "output_type": "stream",
     "text": [
      "Epoch: 7 Step 0: Loss = 0.015421\n",
      "Epoch: 7 Step 50: Loss = 0.014867\n",
      "Epoch: 7 Step 100: Loss = 0.015212\n"
     ]
    },
    {
     "name": "stderr",
     "output_type": "stream",
     "text": [
      " 80%|████████  | 8/10 [00:34<00:08,  4.37s/it]"
     ]
    },
    {
     "name": "stdout",
     "output_type": "stream",
     "text": [
      "Epoch: 8 Step 0: Loss = 0.012722\n",
      "Epoch: 8 Step 50: Loss = 0.010229\n",
      "Epoch: 8 Step 100: Loss = 0.011413\n"
     ]
    },
    {
     "name": "stderr",
     "output_type": "stream",
     "text": [
      " 90%|█████████ | 9/10 [00:39<00:04,  4.41s/it]"
     ]
    },
    {
     "name": "stdout",
     "output_type": "stream",
     "text": [
      "Epoch: 9 Step 0: Loss = 0.009178\n",
      "Epoch: 9 Step 50: Loss = 0.008680\n",
      "Epoch: 9 Step 100: Loss = 0.009679\n"
     ]
    },
    {
     "name": "stderr",
     "output_type": "stream",
     "text": [
      "100%|██████████| 10/10 [00:43<00:00,  4.38s/it]"
     ]
    },
    {
     "name": "stdout",
     "output_type": "stream",
     "text": [
      "Training complete!\n"
     ]
    },
    {
     "name": "stderr",
     "output_type": "stream",
     "text": [
      "\n"
     ]
    }
   ],
   "source": [
    "optimizer = torch.optim.AdamW(model.parameters(), lr=5e-5)\n",
    "metric_with_FFN = train(model_1, optimizer_1, num_epochs=10)\n",
    "metric_without_FFN = train(model_2, optimizer_2, num_epochs=10)"
   ]
  },
  {
   "cell_type": "code",
   "execution_count": null,
   "metadata": {},
   "outputs": [
    {
     "data": {
      "image/png": "[encoded data removed]",
      "text/plain": [
       "<Figure size 1200x600 with 1 Axes>"
      ]
     },
     "metadata": {},
     "output_type": "display_data"
    }
   ],
   "source": [
    "import matplotlib.pyplot as plt\n",
    "def plot_metrics_comparison(metrics_A, metrics_B, num_epochs):\n",
    "    plt.figure(figsize=(12, 6))\n",
    "    \n",
    "    epochs = list(range(num_epochs+1))\n",
    "    for metric in [\"accuracy\", \"precision\", \"recall\", \"f1_score\"]:\n",
    "        plt.plot(epochs, metrics_A[metric], label=f\"GPT with FFN {metric}\", linestyle=\"-\", marker=\"o\")\n",
    "        plt.plot(epochs, metrics_B[metric], label=f\"GPT w/o FFN {metric}\", linestyle=\"--\", marker=\"s\")\n",
    "\n",
    "    plt.xlabel(\"Epochs\")\n",
    "    plt.ylabel(\"Metric Score\")\n",
    "    plt.title(\"Comparison of Training Metrics with and without FFN\")\n",
    "    plt.legend()\n",
    "    plt.grid(True)\n",
    "    plt.show()\n",
    "\n",
    "plot_metrics_comparison(metric_with_FFN, metric_without_FFN, num_epochs=10)"
   ]
  }
 ],
 "metadata": {
  "kernelspec": {
   "display_name": "transformers",
   "language": "python",
   "name": "python3"
  },
  "language_info": {
   "codemirror_mode": {
    "name": "ipython",
    "version": 3
   },
   "file_extension": ".py",
   "mimetype": "text/x-python",
   "name": "python",
   "nbconvert_exporter": "python",
   "pygments_lexer": "ipython3",
   "version": "3.9.20"
  }
 },
 "nbformat": 4,
 "nbformat_minor": 2
}
